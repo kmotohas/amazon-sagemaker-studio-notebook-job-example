{
 "cells": [
  {
   "cell_type": "markdown",
   "id": "1ebb7132-9545-4a5f-b49d-861005739c51",
   "metadata": {},
   "source": [
    "# Amazon SageMaker Studio ノートブックジョブ機能ハンズオン\n",
    "\n",
    "本ハンズオンは SageMaker Studio ノートブックの `Python 3 (Data Science 2.0)` カーネル、`ml.t3.medium (2 vCPU + 4 GiB)` インスタンスで検証しています。"
   ]
  },
  {
   "cell_type": "code",
   "execution_count": 5,
   "id": "ecae3b8e-8463-4607-967a-797a9c6fee95",
   "metadata": {
    "tags": [
     "parameters"
    ]
   },
   "outputs": [],
   "source": [
    "# parameters for notebook job\n",
    "env = \"local\"\n",
    "experiment_name = \"diamond-price-prediction\"\n",
    "train_data_uri = \"\"\n",
    "unseen_data_uri = \"\"\n",
    "random_seed = 42"
   ]
  },
  {
   "cell_type": "code",
   "execution_count": 6,
   "id": "a020713f-521b-419d-82c9-7b81c72fc918",
   "metadata": {
    "tags": []
   },
   "outputs": [],
   "source": [
    "base_run_name = \"experiment-run-\" + env"
   ]
  },
  {
   "cell_type": "markdown",
   "id": "a632e508-c104-4e31-ac9d-331e3d2e6943",
   "metadata": {
    "tags": []
   },
   "source": [
    "## 事前準備\n",
    "\n",
    "本ハンズオンを実施するには SageMaker の実行ロールに `sagemaker.amazonaws.com` および `events.amazon.aws.com` に対する信頼関係をセットする必要があります。\n",
    "後者は Amazon EventBridge サービスの URL です。\n",
    "ノートブックジョブを定期実行する際、裏側で EventBridge の仕組みを利用するため必要となります。\n",
    "\n",
    "以降のセルでハンズオン用の実行ロールを作成します。\n",
    "その他、セットする必要がある IAM ポリシーのリストなど、権限周りの最新情報は[公式ドキュメント](https://docs.aws.amazon.com/sagemaker/latest/dg/scheduled-notebook-policies.html)を参照してください。\n"
   ]
  },
  {
   "cell_type": "markdown",
   "id": "f654d792-83f0-45d6-98d4-7a4b27e146fc",
   "metadata": {},
   "source": [
    "### ライブラリのインポート"
   ]
  },
  {
   "cell_type": "code",
   "execution_count": 2,
   "id": "e35862b9-33d3-424b-95d3-2c2dc622fa9a",
   "metadata": {
    "scrolled": true,
    "tags": []
   },
   "outputs": [
    {
     "name": "stdout",
     "output_type": "stream",
     "text": [
      "Requirement already satisfied: boto3<2,>=1 in /opt/conda/lib/python3.8/site-packages (1.26.111)\n",
      "Collecting boto3<2,>=1\n",
      "  Using cached boto3-1.26.130-py3-none-any.whl (135 kB)\n",
      "Requirement already satisfied: sagemaker<3,>=2 in /opt/conda/lib/python3.8/site-packages (2.145.0)\n",
      "Collecting sagemaker<3,>=2\n",
      "  Using cached sagemaker-2.153.0.tar.gz (751 kB)\n",
      "  Preparing metadata (setup.py) ... \u001b[?25ldone\n",
      "\u001b[?25hCollecting pycaret<3,>=2\n",
      "  Using cached pycaret-2.3.10-py3-none-any.whl (320 kB)\n",
      "Collecting awswrangler<3,>=2\n",
      "  Using cached awswrangler-2.20.1-py3-none-any.whl (272 kB)\n",
      "Collecting botocore<1.30.0,>=1.29.130\n",
      "  Using cached botocore-1.29.130-py3-none-any.whl (10.7 MB)\n",
      "Requirement already satisfied: jmespath<2.0.0,>=0.7.1 in /opt/conda/lib/python3.8/site-packages (from boto3<2,>=1) (1.0.1)\n",
      "Requirement already satisfied: s3transfer<0.7.0,>=0.6.0 in /opt/conda/lib/python3.8/site-packages (from boto3<2,>=1) (0.6.0)\n",
      "Requirement already satisfied: attrs<23,>=20.3.0 in /opt/conda/lib/python3.8/site-packages (from sagemaker<3,>=2) (21.2.0)\n",
      "Collecting cloudpickle==2.2.1\n",
      "  Using cached cloudpickle-2.2.1-py3-none-any.whl (25 kB)\n",
      "Requirement already satisfied: google-pasta in /opt/conda/lib/python3.8/site-packages (from sagemaker<3,>=2) (0.2.0)\n",
      "Requirement already satisfied: numpy<2.0,>=1.9.0 in /opt/conda/lib/python3.8/site-packages (from sagemaker<3,>=2) (1.24.2)\n",
      "Requirement already satisfied: protobuf<4.0,>=3.1 in /opt/conda/lib/python3.8/site-packages (from sagemaker<3,>=2) (3.20.3)\n",
      "Requirement already satisfied: protobuf3-to-dict<1.0,>=0.1.5 in /opt/conda/lib/python3.8/site-packages (from sagemaker<3,>=2) (0.1.5)\n",
      "Requirement already satisfied: smdebug_rulesconfig==1.0.1 in /opt/conda/lib/python3.8/site-packages (from sagemaker<3,>=2) (1.0.1)\n",
      "Collecting importlib-metadata<5.0,>=1.4.0\n",
      "  Downloading importlib_metadata-4.13.0-py3-none-any.whl (23 kB)\n",
      "Requirement already satisfied: packaging>=20.0 in /opt/conda/lib/python3.8/site-packages (from sagemaker<3,>=2) (21.0)\n",
      "Requirement already satisfied: pandas in /opt/conda/lib/python3.8/site-packages (from sagemaker<3,>=2) (1.3.4)\n",
      "Requirement already satisfied: pathos in /opt/conda/lib/python3.8/site-packages (from sagemaker<3,>=2) (0.3.0)\n",
      "Requirement already satisfied: schema in /opt/conda/lib/python3.8/site-packages (from sagemaker<3,>=2) (0.7.5)\n",
      "Requirement already satisfied: PyYAML==5.4.1 in /opt/conda/lib/python3.8/site-packages (from sagemaker<3,>=2) (5.4.1)\n",
      "Requirement already satisfied: jsonschema in /opt/conda/lib/python3.8/site-packages (from sagemaker<3,>=2) (3.2.0)\n",
      "Requirement already satisfied: platformdirs in /opt/conda/lib/python3.8/site-packages (from sagemaker<3,>=2) (3.2.0)\n",
      "Requirement already satisfied: tblib==1.7.0 in /opt/conda/lib/python3.8/site-packages (from sagemaker<3,>=2) (1.7.0)\n",
      "Requirement already satisfied: joblib in /opt/conda/lib/python3.8/site-packages (from pycaret<3,>=2) (1.2.0)\n",
      "Collecting imbalanced-learn==0.7.0\n",
      "  Downloading imbalanced_learn-0.7.0-py3-none-any.whl (167 kB)\n",
      "\u001b[2K     \u001b[90m━━━━━━━━━━━━━━━━━━━━━━━━━━━━━━━━━━━━━━━\u001b[0m \u001b[32m167.1/167.1 kB\u001b[0m \u001b[31m4.3 MB/s\u001b[0m eta \u001b[36m0:00:00\u001b[0m00:01\u001b[0m\n",
      "\u001b[?25hCollecting umap-learn\n",
      "  Downloading umap-learn-0.5.3.tar.gz (88 kB)\n",
      "\u001b[2K     \u001b[90m━━━━━━━━━━━━━━━━━━━━━━━━━━━━━━━━━━━━━━━━\u001b[0m \u001b[32m88.2/88.2 kB\u001b[0m \u001b[31m2.2 MB/s\u001b[0m eta \u001b[36m0:00:00\u001b[0mta \u001b[36m0:00:01\u001b[0m\n",
      "\u001b[?25h  Preparing metadata (setup.py) ... \u001b[?25ldone\n",
      "\u001b[?25hCollecting lightgbm>=2.3.1\n",
      "  Using cached lightgbm-3.3.5-py3-none-manylinux1_x86_64.whl (2.0 MB)\n",
      "Collecting pandas-profiling>=2.8.0\n",
      "  Downloading pandas_profiling-3.6.6-py2.py3-none-any.whl (324 kB)\n",
      "\u001b[2K     \u001b[90m━━━━━━━━━━━━━━━━━━━━━━━━━━━━━━━━━━━━━━━\u001b[0m \u001b[32m324.4/324.4 kB\u001b[0m \u001b[31m6.0 MB/s\u001b[0m eta \u001b[36m0:00:00\u001b[0m00:01\u001b[0m\n",
      "\u001b[?25hRequirement already satisfied: plotly>=4.4.1 in /opt/conda/lib/python3.8/site-packages (from pycaret<3,>=2) (5.14.1)\n",
      "Collecting pyod\n",
      "  Using cached pyod-1.0.9.tar.gz (149 kB)\n",
      "  Preparing metadata (setup.py) ... \u001b[?25ldone\n",
      "\u001b[?25hCollecting scikit-learn==0.23.2\n",
      "  Downloading scikit_learn-0.23.2-cp38-cp38-manylinux1_x86_64.whl (6.8 MB)\n",
      "\u001b[2K     \u001b[90m━━━━━━━━━━━━━━━━━━━━━━━━━━━━━━━━━━━━━━━━\u001b[0m \u001b[32m6.8/6.8 MB\u001b[0m \u001b[31m37.1 MB/s\u001b[0m eta \u001b[36m0:00:00\u001b[0m:00:01\u001b[0m00:01\u001b[0m\n",
      "\u001b[?25hRequirement already satisfied: IPython in /opt/conda/lib/python3.8/site-packages (from pycaret<3,>=2) (8.12.0)\n",
      "Collecting mlflow\n",
      "  Downloading mlflow-2.3.1-py3-none-any.whl (17.7 MB)\n",
      "\u001b[2K     \u001b[90m━━━━━━━━━━━━━━━━━━━━━━━━━━━━━━━━━━━━━━━━\u001b[0m \u001b[32m17.7/17.7 MB\u001b[0m \u001b[31m35.6 MB/s\u001b[0m eta \u001b[36m0:00:00\u001b[0m00:01\u001b[0m00:01\u001b[0m\n",
      "\u001b[?25hCollecting Boruta\n",
      "  Using cached Boruta-0.3-py3-none-any.whl (56 kB)\n",
      "Collecting mlxtend>=0.17.0\n",
      "  Using cached mlxtend-0.22.0-py2.py3-none-any.whl (1.4 MB)\n",
      "Collecting scipy<=1.5.4\n",
      "  Downloading scipy-1.5.4-cp38-cp38-manylinux1_x86_64.whl (25.8 MB)\n",
      "\u001b[2K     \u001b[90m━━━━━━━━━━━━━━━━━━━━━━━━━━━━━━━━━━━━━━━━\u001b[0m \u001b[32m25.8/25.8 MB\u001b[0m \u001b[31m32.8 MB/s\u001b[0m eta \u001b[36m0:00:00\u001b[0m00:01\u001b[0m00:01\u001b[0m\n",
      "\u001b[?25hRequirement already satisfied: nltk in /opt/conda/lib/python3.8/site-packages (from pycaret<3,>=2) (3.8.1)\n",
      "Collecting kmodes>=0.10.1\n",
      "  Using cached kmodes-0.12.2-py2.py3-none-any.whl (20 kB)\n",
      "Collecting gensim<4.0.0\n",
      "  Downloading gensim-3.8.3-cp38-cp38-manylinux1_x86_64.whl (24.2 MB)\n",
      "\u001b[2K     \u001b[90m━━━━━━━━━━━━━━━━━━━━━━━━━━━━━━━━━━━━━━━━\u001b[0m \u001b[32m24.2/24.2 MB\u001b[0m \u001b[31m35.0 MB/s\u001b[0m eta \u001b[36m0:00:00\u001b[0m00:01\u001b[0m00:01\u001b[0m\n",
      "\u001b[?25hRequirement already satisfied: matplotlib in /opt/conda/lib/python3.8/site-packages (from pycaret<3,>=2) (3.4.3)\n",
      "Requirement already satisfied: seaborn in /opt/conda/lib/python3.8/site-packages (from pycaret<3,>=2) (0.11.2)\n",
      "Collecting scikit-plot\n",
      "  Downloading scikit_plot-0.3.7-py3-none-any.whl (33 kB)\n",
      "Collecting cufflinks>=0.17.0\n",
      "  Using cached cufflinks-0.17.3.tar.gz (81 kB)\n",
      "  Preparing metadata (setup.py) ... \u001b[?25ldone\n",
      "\u001b[?25hCollecting spacy<2.4.0\n",
      "  Downloading spacy-2.3.9-cp38-cp38-manylinux_2_17_x86_64.manylinux2014_x86_64.whl (5.0 MB)\n",
      "\u001b[2K     \u001b[90m━━━━━━━━━━━━━━━━━━━━━━━━━━━━━━━━━━━━━━━━\u001b[0m \u001b[32m5.0/5.0 MB\u001b[0m \u001b[31m38.4 MB/s\u001b[0m eta \u001b[36m0:00:00\u001b[0m:00:01\u001b[0m\n",
      "\u001b[?25hCollecting textblob\n",
      "  Downloading textblob-0.17.1-py2.py3-none-any.whl (636 kB)\n",
      "\u001b[2K     \u001b[90m━━━━━━━━━━━━━━━━━━━━━━━━━━━━━━━━━━━━━━\u001b[0m \u001b[32m636.8/636.8 kB\u001b[0m \u001b[31m10.2 MB/s\u001b[0m eta \u001b[36m0:00:00\u001b[0m00:01\u001b[0m\n",
      "\u001b[?25hCollecting pyLDAvis\n",
      "  Downloading pyLDAvis-3.4.0-py3-none-any.whl (2.6 MB)\n",
      "\u001b[2K     \u001b[90m━━━━━━━━━━━━━━━━━━━━━━━━━━━━━━━━━━━━━━━━\u001b[0m \u001b[32m2.6/2.6 MB\u001b[0m \u001b[31m28.1 MB/s\u001b[0m eta \u001b[36m0:00:00\u001b[0m:00:01\u001b[0m\n",
      "\u001b[?25hRequirement already satisfied: ipywidgets in /opt/conda/lib/python3.8/site-packages (from pycaret<3,>=2) (7.6.5)\n",
      "Collecting yellowbrick>=1.0.1\n",
      "  Downloading yellowbrick-1.5-py3-none-any.whl (282 kB)\n",
      "\u001b[2K     \u001b[90m━━━━━━━━━━━━━━━━━━━━━━━━━━━━━━━━━━━━━━━\u001b[0m \u001b[32m282.6/282.6 kB\u001b[0m \u001b[31m5.2 MB/s\u001b[0m eta \u001b[36m0:00:00\u001b[0m00:01\u001b[0m\n",
      "\u001b[?25hCollecting wordcloud\n",
      "  Downloading wordcloud-1.9.1.1-cp38-cp38-manylinux_2_17_x86_64.manylinux2014_x86_64.whl (461 kB)\n",
      "\u001b[2K     \u001b[90m━━━━━━━━━━━━━━━━━━━━━━━━━━━━━━━━━━━━━━━\u001b[0m \u001b[32m461.4/461.4 kB\u001b[0m \u001b[31m8.6 MB/s\u001b[0m eta \u001b[36m0:00:00\u001b[0m00:01\u001b[0m\n",
      "\u001b[?25hRequirement already satisfied: numba<0.55 in /opt/conda/lib/python3.8/site-packages (from pycaret<3,>=2) (0.54.1)\n",
      "Requirement already satisfied: threadpoolctl>=2.0.0 in /opt/conda/lib/python3.8/site-packages (from scikit-learn==0.23.2->pycaret<3,>=2) (2.2.0)\n",
      "Collecting opensearch-py<3,>=1\n",
      "  Downloading opensearch_py-2.2.0-py2.py3-none-any.whl (291 kB)\n",
      "\u001b[2K     \u001b[90m━━━━━━━━━━━━━━━━━━━━━━━━━━━━━━━━━━━━━━━\u001b[0m \u001b[32m291.0/291.0 kB\u001b[0m \u001b[31m5.9 MB/s\u001b[0m eta \u001b[36m0:00:00\u001b[0m00:01\u001b[0m\n",
      "\u001b[?25hCollecting pg8000<2.0.0,>=1.20.0\n",
      "  Downloading pg8000-1.29.4-py3-none-any.whl (51 kB)\n",
      "\u001b[2K     \u001b[90m━━━━━━━━━━━━━━━━━━━━━━━━━━━━━━━━━━━━━━━━\u001b[0m \u001b[32m51.4/51.4 kB\u001b[0m \u001b[31m1.5 MB/s\u001b[0m eta \u001b[36m0:00:00\u001b[0m\n",
      "\u001b[?25hCollecting backoff<3.0.0,>=1.11.1\n",
      "  Downloading backoff-2.2.1-py3-none-any.whl (15 kB)\n",
      "Collecting progressbar2<5.0.0,>=4.0.0\n",
      "  Downloading progressbar2-4.2.0-py2.py3-none-any.whl (27 kB)\n",
      "Collecting jsonpath-ng<2.0.0,>=1.5.3\n",
      "  Downloading jsonpath_ng-1.5.3-py3-none-any.whl (29 kB)\n",
      "Collecting pyarrow<10.1.0,>=2.0.0\n",
      "  Downloading pyarrow-10.0.1-cp38-cp38-manylinux_2_17_x86_64.manylinux2014_x86_64.whl (36.0 MB)\n",
      "\u001b[2K     \u001b[90m━━━━━━━━━━━━━━━━━━━━━━━━━━━━━━━━━━━━━━━━\u001b[0m \u001b[32m36.0/36.0 MB\u001b[0m \u001b[31m29.7 MB/s\u001b[0m eta \u001b[36m0:00:00\u001b[0m00:01\u001b[0m00:01\u001b[0m\n",
      "\u001b[?25hCollecting pymysql<2.0.0,>=1.0.0\n",
      "  Downloading PyMySQL-1.0.3-py3-none-any.whl (43 kB)\n",
      "\u001b[2K     \u001b[90m━━━━━━━━━━━━━━━━━━━━━━━━━━━━━━━━━━━━━━━━\u001b[0m \u001b[32m43.7/43.7 kB\u001b[0m \u001b[31m1.0 MB/s\u001b[0m eta \u001b[36m0:00:00\u001b[0m\n",
      "\u001b[?25hCollecting redshift-connector<2.1.0,>=2.0.889\n",
      "  Downloading redshift_connector-2.0.910-py3-none-any.whl (112 kB)\n",
      "\u001b[2K     \u001b[90m━━━━━━━━━━━━━━━━━━━━━━━━━━━━━━━━━━━━━━━\u001b[0m \u001b[32m112.1/112.1 kB\u001b[0m \u001b[31m2.9 MB/s\u001b[0m eta \u001b[36m0:00:00\u001b[0ma \u001b[36m0:00:01\u001b[0m\n",
      "\u001b[?25hCollecting gremlinpython<4.0.0,>=3.5.2\n",
      "  Downloading gremlinpython-3.6.3-py2.py3-none-any.whl (74 kB)\n",
      "\u001b[2K     \u001b[90m━━━━━━━━━━━━━━━━━━━━━━━━━━━━━━━━━━━━━━━━\u001b[0m \u001b[32m74.6/74.6 kB\u001b[0m \u001b[31m1.6 MB/s\u001b[0m eta \u001b[36m0:00:00\u001b[0mta \u001b[36m0:00:01\u001b[0m\n",
      "\u001b[?25hCollecting requests-aws4auth<2.0.0,>=1.1.1\n",
      "  Downloading requests_aws4auth-1.2.3-py2.py3-none-any.whl (24 kB)\n",
      "Requirement already satisfied: openpyxl<3.1.0,>=3.0.0 in /opt/conda/lib/python3.8/site-packages (from awswrangler<3,>=2) (3.0.9)\n",
      "Collecting numpy<2.0,>=1.9.0\n",
      "  Downloading numpy-1.23.4-cp38-cp38-manylinux_2_17_x86_64.manylinux2014_x86_64.whl (17.1 MB)\n",
      "\u001b[2K     \u001b[90m━━━━━━━━━━━━━━━━━━━━━━━━━━━━━━━━━━━━━━━━\u001b[0m \u001b[32m17.1/17.1 MB\u001b[0m \u001b[31m45.3 MB/s\u001b[0m eta \u001b[36m0:00:00\u001b[0m00:01\u001b[0m00:01\u001b[0m\n",
      "\u001b[?25hRequirement already satisfied: urllib3<1.27,>=1.25.4 in /opt/conda/lib/python3.8/site-packages (from botocore<1.30.0,>=1.29.130->boto3<2,>=1) (1.26.15)\n",
      "Requirement already satisfied: python-dateutil<3.0.0,>=2.1 in /opt/conda/lib/python3.8/site-packages (from botocore<1.30.0,>=1.29.130->boto3<2,>=1) (2.8.2)\n",
      "Requirement already satisfied: six>=1.9.0 in /opt/conda/lib/python3.8/site-packages (from cufflinks>=0.17.0->pycaret<3,>=2) (1.16.0)\n",
      "Collecting colorlover>=0.2.1\n",
      "  Downloading colorlover-0.3.0-py3-none-any.whl (8.9 kB)\n",
      "Requirement already satisfied: setuptools>=34.4.1 in /opt/conda/lib/python3.8/site-packages (from cufflinks>=0.17.0->pycaret<3,>=2) (67.6.1)\n",
      "Collecting smart-open>=1.8.1\n",
      "  Downloading smart_open-6.3.0-py3-none-any.whl (56 kB)\n",
      "\u001b[2K     \u001b[90m━━━━━━━━━━━━━━━━━━━━━━━━━━━━━━━━━━━━━━━━\u001b[0m \u001b[32m56.8/56.8 kB\u001b[0m \u001b[31m1.8 MB/s\u001b[0m eta \u001b[36m0:00:00\u001b[0m\n",
      "\u001b[?25hRequirement already satisfied: nest-asyncio in /opt/conda/lib/python3.8/site-packages (from gremlinpython<4.0.0,>=3.5.2->awswrangler<3,>=2) (1.5.5)\n",
      "Collecting aiohttp<4.0.0,>=3.8.0\n",
      "  Downloading aiohttp-3.8.4-cp38-cp38-manylinux_2_17_x86_64.manylinux2014_x86_64.whl (1.0 MB)\n",
      "\u001b[2K     \u001b[90m━━━━━━━━━━━━━━━━━━━━━━━━━━━━━━━━━━━━━━━━\u001b[0m \u001b[32m1.0/1.0 MB\u001b[0m \u001b[31m17.7 MB/s\u001b[0m eta \u001b[36m0:00:00\u001b[0m:00:01\u001b[0m\n",
      "\u001b[?25hCollecting isodate<1.0.0,>=0.6.0\n",
      "  Downloading isodate-0.6.1-py2.py3-none-any.whl (41 kB)\n",
      "\u001b[2K     \u001b[90m━━━━━━━━━━━━━━━━━━━━━━━━━━━━━━━━━━━━━━━━\u001b[0m \u001b[32m41.7/41.7 kB\u001b[0m \u001b[31m1.2 MB/s\u001b[0m eta \u001b[36m0:00:00\u001b[0m\n",
      "\u001b[?25hCollecting aenum<4.0.0,>=1.4.5\n",
      "  Downloading aenum-3.1.12-py3-none-any.whl (131 kB)\n",
      "\u001b[2K     \u001b[90m━━━━━━━━━━━━━━━━━━━━━━━━━━━━━━━━━━━━━━━\u001b[0m \u001b[32m131.8/131.8 kB\u001b[0m \u001b[31m2.7 MB/s\u001b[0m eta \u001b[36m0:00:00\u001b[0ma \u001b[36m0:00:01\u001b[0m\n",
      "\u001b[?25hRequirement already satisfied: zipp>=0.5 in /opt/conda/lib/python3.8/site-packages (from importlib-metadata<5.0,>=1.4.0->sagemaker<3,>=2) (3.6.0)\n",
      "Requirement already satisfied: pexpect>4.3 in /opt/conda/lib/python3.8/site-packages (from IPython->pycaret<3,>=2) (4.8.0)\n",
      "Requirement already satisfied: typing-extensions in /opt/conda/lib/python3.8/site-packages (from IPython->pycaret<3,>=2) (4.5.0)\n",
      "Requirement already satisfied: pygments>=2.4.0 in /opt/conda/lib/python3.8/site-packages (from IPython->pycaret<3,>=2) (2.10.0)\n",
      "Requirement already satisfied: stack-data in /opt/conda/lib/python3.8/site-packages (from IPython->pycaret<3,>=2) (0.6.2)\n",
      "Requirement already satisfied: matplotlib-inline in /opt/conda/lib/python3.8/site-packages (from IPython->pycaret<3,>=2) (0.1.2)\n",
      "Requirement already satisfied: traitlets>=5 in /opt/conda/lib/python3.8/site-packages (from IPython->pycaret<3,>=2) (5.9.0)\n",
      "Requirement already satisfied: pickleshare in /opt/conda/lib/python3.8/site-packages (from IPython->pycaret<3,>=2) (0.7.5)\n",
      "Requirement already satisfied: backcall in /opt/conda/lib/python3.8/site-packages (from IPython->pycaret<3,>=2) (0.2.0)\n",
      "Requirement already satisfied: jedi>=0.16 in /opt/conda/lib/python3.8/site-packages (from IPython->pycaret<3,>=2) (0.18.0)\n",
      "Requirement already satisfied: decorator in /opt/conda/lib/python3.8/site-packages (from IPython->pycaret<3,>=2) (5.1.0)\n",
      "Requirement already satisfied: prompt-toolkit!=3.0.37,<3.1.0,>=3.0.30 in /opt/conda/lib/python3.8/site-packages (from IPython->pycaret<3,>=2) (3.0.38)\n",
      "Requirement already satisfied: ipykernel>=4.5.1 in /opt/conda/lib/python3.8/site-packages (from ipywidgets->pycaret<3,>=2) (6.20.2)\n",
      "Requirement already satisfied: jupyterlab-widgets>=1.0.0 in /opt/conda/lib/python3.8/site-packages (from ipywidgets->pycaret<3,>=2) (1.0.0)\n",
      "Requirement already satisfied: widgetsnbextension~=3.5.0 in /opt/conda/lib/python3.8/site-packages (from ipywidgets->pycaret<3,>=2) (3.5.1)\n",
      "Requirement already satisfied: nbformat>=4.2.0 in /opt/conda/lib/python3.8/site-packages (from ipywidgets->pycaret<3,>=2) (5.8.0)\n",
      "Requirement already satisfied: ipython-genutils~=0.2.0 in /opt/conda/lib/python3.8/site-packages (from ipywidgets->pycaret<3,>=2) (0.2.0)\n",
      "Requirement already satisfied: ply in /opt/conda/lib/python3.8/site-packages (from jsonpath-ng<2.0.0,>=1.5.3->awswrangler<3,>=2) (3.11)\n",
      "Requirement already satisfied: wheel in /opt/conda/lib/python3.8/site-packages (from lightgbm>=2.3.1->pycaret<3,>=2) (0.40.0)\n",
      "Collecting mlxtend>=0.17.0\n",
      "  Downloading mlxtend-0.21.0-py2.py3-none-any.whl (1.3 MB)\n",
      "\u001b[2K     \u001b[90m━━━━━━━━━━━━━━━━━━━━━━━━━━━━━━━━━━━━━━━━\u001b[0m \u001b[32m1.3/1.3 MB\u001b[0m \u001b[31m21.5 MB/s\u001b[0m eta \u001b[36m0:00:00\u001b[0m:00:01\u001b[0m\n",
      "\u001b[?25h  Downloading mlxtend-0.20.0-py2.py3-none-any.whl (1.3 MB)\n",
      "\u001b[2K     \u001b[90m━━━━━━━━━━━━━━━━━━━━━━━━━━━━━━━━━━━━━━━━\u001b[0m \u001b[32m1.3/1.3 MB\u001b[0m \u001b[31m20.9 MB/s\u001b[0m eta \u001b[36m0:00:00\u001b[0m:00:01\u001b[0m\n",
      "\u001b[?25h  Downloading mlxtend-0.19.0-py2.py3-none-any.whl (1.3 MB)\n",
      "\u001b[2K     \u001b[90m━━━━━━━━━━━━━━━━━━━━━━━━━━━━━━━━━━━━━━━━\u001b[0m \u001b[32m1.3/1.3 MB\u001b[0m \u001b[31m24.2 MB/s\u001b[0m eta \u001b[36m0:00:00\u001b[0m:00:01\u001b[0m\n",
      "\u001b[?25hRequirement already satisfied: kiwisolver>=1.0.1 in /opt/conda/lib/python3.8/site-packages (from matplotlib->pycaret<3,>=2) (1.3.1)\n",
      "Requirement already satisfied: cycler>=0.10 in /opt/conda/lib/python3.8/site-packages (from matplotlib->pycaret<3,>=2) (0.10.0)\n",
      "Requirement already satisfied: pyparsing>=2.2.1 in /opt/conda/lib/python3.8/site-packages (from matplotlib->pycaret<3,>=2) (3.0.4)\n",
      "Requirement already satisfied: pillow>=6.2.0 in /opt/conda/lib/python3.8/site-packages (from matplotlib->pycaret<3,>=2) (9.5.0)\n",
      "Collecting numba<0.55\n",
      "  Downloading numba-0.54.0-cp38-cp38-manylinux2014_x86_64.manylinux_2_17_x86_64.whl (3.5 MB)\n",
      "\u001b[2K     \u001b[90m━━━━━━━━━━━━━━━━━━━━━━━━━━━━━━━━━━━━━━━━\u001b[0m \u001b[32m3.5/3.5 MB\u001b[0m \u001b[31m39.6 MB/s\u001b[0m eta \u001b[36m0:00:00\u001b[0m:00:01\u001b[0m\n",
      "\u001b[?25h  Downloading numba-0.53.1-cp38-cp38-manylinux2014_x86_64.whl (3.4 MB)\n",
      "\u001b[2K     \u001b[90m━━━━━━━━━━━━━━━━━━━━━━━━━━━━━━━━━━━━━━━━\u001b[0m \u001b[32m3.4/3.4 MB\u001b[0m \u001b[31m36.4 MB/s\u001b[0m eta \u001b[36m0:00:00\u001b[0m:00:01\u001b[0m\n",
      "\u001b[?25hCollecting llvmlite<0.37,>=0.36.0rc1\n",
      "  Downloading llvmlite-0.36.0-cp38-cp38-manylinux2010_x86_64.whl (25.3 MB)\n",
      "\u001b[2K     \u001b[90m━━━━━━━━━━━━━━━━━━━━━━━━━━━━━━━━━━━━━━━━\u001b[0m \u001b[32m25.3/25.3 MB\u001b[0m \u001b[31m34.7 MB/s\u001b[0m eta \u001b[36m0:00:00\u001b[0m00:01\u001b[0m00:01\u001b[0m\n",
      "\u001b[?25hRequirement already satisfied: et-xmlfile in /opt/conda/lib/python3.8/site-packages (from openpyxl<3.1.0,>=3.0.0->awswrangler<3,>=2) (1.1.0)\n",
      "Requirement already satisfied: requests<3.0.0,>=2.4.0 in /opt/conda/lib/python3.8/site-packages (from opensearch-py<3,>=1->awswrangler<3,>=2) (2.28.2)\n",
      "Requirement already satisfied: certifi>=2022.12.07 in /opt/conda/lib/python3.8/site-packages (from opensearch-py<3,>=1->awswrangler<3,>=2) (2022.12.7)\n",
      "Requirement already satisfied: pytz>=2017.3 in /opt/conda/lib/python3.8/site-packages (from pandas->sagemaker<3,>=2) (2021.3)\n",
      "Collecting ydata-profiling\n",
      "  Downloading ydata_profiling-4.1.2-py2.py3-none-any.whl (345 kB)\n",
      "\u001b[2K     \u001b[90m━━━━━━━━━━━━━━━━━━━━━━━━━━━━━━━━━━━━━━━\u001b[0m \u001b[32m345.9/345.9 kB\u001b[0m \u001b[31m6.9 MB/s\u001b[0m eta \u001b[36m0:00:00\u001b[0m00:01\u001b[0m\n",
      "\u001b[?25hCollecting scramp>=1.4.3\n",
      "  Downloading scramp-1.4.4-py3-none-any.whl (13 kB)\n",
      "Requirement already satisfied: tenacity>=6.2.0 in /opt/conda/lib/python3.8/site-packages (from plotly>=4.4.1->pycaret<3,>=2) (8.2.2)\n",
      "Collecting python-utils>=3.0.0\n",
      "  Downloading python_utils-3.5.2-py2.py3-none-any.whl (24 kB)\n",
      "Requirement already satisfied: beautifulsoup4<5.0.0,>=4.7.0 in /opt/conda/lib/python3.8/site-packages (from redshift-connector<2.1.0,>=2.0.889->awswrangler<3,>=2) (4.10.0)\n",
      "Requirement already satisfied: lxml>=4.6.5 in /opt/conda/lib/python3.8/site-packages (from redshift-connector<2.1.0,>=2.0.889->awswrangler<3,>=2) (4.9.2)\n",
      "Collecting murmurhash<1.1.0,>=0.28.0\n",
      "  Downloading murmurhash-1.0.9-cp38-cp38-manylinux_2_5_x86_64.manylinux1_x86_64.manylinux_2_17_x86_64.manylinux2014_x86_64.whl (21 kB)\n",
      "Collecting thinc<7.5.0,>=7.4.1\n",
      "  Downloading thinc-7.4.6-cp38-cp38-manylinux_2_17_x86_64.manylinux2014_x86_64.whl (1.1 MB)\n",
      "\u001b[2K     \u001b[90m━━━━━━━━━━━━━━━━━━━━━━━━━━━━━━━━━━━━━━━━\u001b[0m \u001b[32m1.1/1.1 MB\u001b[0m \u001b[31m17.5 MB/s\u001b[0m eta \u001b[36m0:00:00\u001b[0m:00:01\u001b[0m\n",
      "\u001b[?25hCollecting wasabi<1.1.0,>=0.4.0\n",
      "  Downloading wasabi-0.10.1-py3-none-any.whl (26 kB)\n",
      "Collecting cymem<2.1.0,>=2.0.2\n",
      "  Downloading cymem-2.0.7-cp38-cp38-manylinux_2_17_x86_64.manylinux2014_x86_64.whl (36 kB)\n",
      "Collecting srsly<1.1.0,>=1.0.2\n",
      "  Downloading srsly-1.0.6-cp38-cp38-manylinux_2_17_x86_64.manylinux2014_x86_64.whl (211 kB)\n",
      "\u001b[2K     \u001b[90m━━━━━━━━━━━━━━━━━━━━━━━━━━━━━━━━━━━━━━━\u001b[0m \u001b[32m211.1/211.1 kB\u001b[0m \u001b[31m4.8 MB/s\u001b[0m eta \u001b[36m0:00:00\u001b[0ma \u001b[36m0:00:01\u001b[0m\n",
      "\u001b[?25hCollecting plac<1.2.0,>=0.9.6\n",
      "  Downloading plac-1.1.3-py2.py3-none-any.whl (20 kB)\n",
      "Collecting catalogue<1.1.0,>=0.0.7\n",
      "  Downloading catalogue-1.0.2-py2.py3-none-any.whl (16 kB)\n",
      "Requirement already satisfied: tqdm<5.0.0,>=4.38.0 in /opt/conda/lib/python3.8/site-packages (from spacy<2.4.0->pycaret<3,>=2) (4.62.3)\n",
      "Collecting preshed<3.1.0,>=3.0.2\n",
      "  Downloading preshed-3.0.8-cp38-cp38-manylinux_2_5_x86_64.manylinux1_x86_64.manylinux_2_17_x86_64.manylinux2014_x86_64.whl (130 kB)\n",
      "\u001b[2K     \u001b[90m━━━━━━━━━━━━━━━━━━━━━━━━━━━━━━━━━━━━━━━\u001b[0m \u001b[32m130.8/130.8 kB\u001b[0m \u001b[31m2.6 MB/s\u001b[0m eta \u001b[36m0:00:00\u001b[0ma \u001b[36m0:00:01\u001b[0m\n",
      "\u001b[?25hCollecting blis<0.8.0,>=0.4.0\n",
      "  Downloading blis-0.7.9-cp38-cp38-manylinux_2_17_x86_64.manylinux2014_x86_64.whl (10.2 MB)\n",
      "\u001b[2K     \u001b[90m━━━━━━━━━━━━━━━━━━━━━━━━━━━━━━━━━━━━━━━━\u001b[0m \u001b[32m10.2/10.2 MB\u001b[0m \u001b[31m49.1 MB/s\u001b[0m eta \u001b[36m0:00:00\u001b[0m00:01\u001b[0m00:01\u001b[0m\n",
      "\u001b[?25hCollecting yellowbrick>=1.0.1\n",
      "  Downloading yellowbrick-1.4-py3-none-any.whl (274 kB)\n",
      "\u001b[2K     \u001b[90m━━━━━━━━━━━━━━━━━━━━━━━━━━━━━━━━━━━━━━━\u001b[0m \u001b[32m274.2/274.2 kB\u001b[0m \u001b[31m4.6 MB/s\u001b[0m eta \u001b[36m0:00:00\u001b[0ma \u001b[36m0:00:01\u001b[0m\n",
      "\u001b[?25h  Downloading yellowbrick-1.3.post1-py3-none-any.whl (271 kB)\n",
      "\u001b[2K     \u001b[90m━━━━━━━━━━━━━━━━━━━━━━━━━━━━━━━━━━━━━━━\u001b[0m \u001b[32m271.4/271.4 kB\u001b[0m \u001b[31m4.7 MB/s\u001b[0m eta \u001b[36m0:00:00\u001b[0m00:01\u001b[0m\n",
      "\u001b[?25h  Downloading yellowbrick-1.3-py3-none-any.whl (271 kB)\n",
      "\u001b[2K     \u001b[90m━━━━━━━━━━━━━━━━━━━━━━━━━━━━━━━━━━━━━━━\u001b[0m \u001b[32m271.3/271.3 kB\u001b[0m \u001b[31m5.2 MB/s\u001b[0m eta \u001b[36m0:00:00\u001b[0m00:01\u001b[0m\n",
      "\u001b[?25h  Downloading yellowbrick-1.2.1-py3-none-any.whl (269 kB)\n",
      "\u001b[2K     \u001b[90m━━━━━━━━━━━━━━━━━━━━━━━━━━━━━━━━━━━━━━━\u001b[0m \u001b[32m269.5/269.5 kB\u001b[0m \u001b[31m5.9 MB/s\u001b[0m eta \u001b[36m0:00:00\u001b[0m00:01\u001b[0m\n",
      "\u001b[?25hRequirement already satisfied: pyrsistent>=0.14.0 in /opt/conda/lib/python3.8/site-packages (from jsonschema->sagemaker<3,>=2) (0.18.0)\n",
      "Requirement already satisfied: Jinja2<4,>=2.11 in /opt/conda/lib/python3.8/site-packages (from mlflow->pycaret<3,>=2) (3.1.2)\n",
      "Collecting databricks-cli<1,>=0.8.7\n",
      "  Downloading databricks-cli-0.17.7.tar.gz (83 kB)\n",
      "\u001b[2K     \u001b[90m━━━━━━━━━━━━━━━━━━━━━━━━━━━━━━━━━━━━━━━━\u001b[0m \u001b[32m83.5/83.5 kB\u001b[0m \u001b[31m1.8 MB/s\u001b[0m eta \u001b[36m0:00:00\u001b[0m:00:01\u001b[0m\n",
      "\u001b[?25h  Preparing metadata (setup.py) ... \u001b[?25ldone\n",
      "\u001b[?25hRequirement already satisfied: entrypoints<1 in /opt/conda/lib/python3.8/site-packages (from mlflow->pycaret<3,>=2) (0.3)\n",
      "Collecting gunicorn<21\n",
      "  Downloading gunicorn-20.1.0-py3-none-any.whl (79 kB)\n",
      "\u001b[2K     \u001b[90m━━━━━━━━━━━━━━━━━━━━━━━━━━━━━━━━━━━━━━━━\u001b[0m \u001b[32m79.5/79.5 kB\u001b[0m \u001b[31m1.5 MB/s\u001b[0m eta \u001b[36m0:00:00\u001b[0mta \u001b[36m0:00:01\u001b[0m\n",
      "\u001b[?25hCollecting alembic!=1.10.0,<2\n",
      "  Downloading alembic-1.10.4-py3-none-any.whl (212 kB)\n",
      "\u001b[2K     \u001b[90m━━━━━━━━━━━━━━━━━━━━━━━━━━━━━━━━━━━━━━━\u001b[0m \u001b[32m212.9/212.9 kB\u001b[0m \u001b[31m5.0 MB/s\u001b[0m eta \u001b[36m0:00:00\u001b[0ma \u001b[36m0:00:01\u001b[0m\n",
      "\u001b[?25hCollecting querystring-parser<2\n",
      "  Downloading querystring_parser-1.2.4-py2.py3-none-any.whl (7.9 kB)\n",
      "Requirement already satisfied: click<9,>=7.0 in /opt/conda/lib/python3.8/site-packages (from mlflow->pycaret<3,>=2) (8.0.3)\n",
      "Requirement already satisfied: docker<7,>=4.0.0 in /opt/conda/lib/python3.8/site-packages (from mlflow->pycaret<3,>=2) (6.0.1)\n",
      "Collecting markdown<4,>=3.3\n",
      "  Downloading Markdown-3.4.3-py3-none-any.whl (93 kB)\n",
      "\u001b[2K     \u001b[90m━━━━━━━━━━━━━━━━━━━━━━━━━━━━━━━━━━━━━━━━\u001b[0m \u001b[32m93.9/93.9 kB\u001b[0m \u001b[31m2.0 MB/s\u001b[0m eta \u001b[36m0:00:00\u001b[0m:00:01\u001b[0m\n",
      "\u001b[?25hRequirement already satisfied: Flask<3 in /opt/conda/lib/python3.8/site-packages (from mlflow->pycaret<3,>=2) (1.1.2)\n",
      "Collecting gitpython<4,>=2.1.0\n",
      "  Downloading GitPython-3.1.31-py3-none-any.whl (184 kB)\n",
      "\u001b[2K     \u001b[90m━━━━━━━━━━━━━━━━━━━━━━━━━━━━━━━━━━━━━━━\u001b[0m \u001b[32m184.3/184.3 kB\u001b[0m \u001b[31m4.9 MB/s\u001b[0m eta \u001b[36m0:00:00\u001b[0m00:01\u001b[0m\n",
      "\u001b[?25hRequirement already satisfied: sqlalchemy<3,>=1.4.0 in /opt/conda/lib/python3.8/site-packages (from mlflow->pycaret<3,>=2) (1.4.22)\n",
      "Collecting sqlparse<1,>=0.4.0\n",
      "  Downloading sqlparse-0.4.4-py3-none-any.whl (41 kB)\n",
      "\u001b[2K     \u001b[90m━━━━━━━━━━━━━━━━━━━━━━━━━━━━━━━━━━━━━━━\u001b[0m \u001b[32m41.2/41.2 kB\u001b[0m \u001b[31m874.4 kB/s\u001b[0m eta \u001b[36m0:00:00\u001b[0m00:01\u001b[0m\n",
      "\u001b[?25hRequirement already satisfied: regex>=2021.8.3 in /opt/conda/lib/python3.8/site-packages (from nltk->pycaret<3,>=2) (2021.8.3)\n",
      "Requirement already satisfied: pox>=0.3.2 in /opt/conda/lib/python3.8/site-packages (from pathos->sagemaker<3,>=2) (0.3.2)\n",
      "Requirement already satisfied: ppft>=1.7.6.6 in /opt/conda/lib/python3.8/site-packages (from pathos->sagemaker<3,>=2) (1.7.6.6)\n",
      "Requirement already satisfied: multiprocess>=0.70.14 in /opt/conda/lib/python3.8/site-packages (from pathos->sagemaker<3,>=2) (0.70.14)\n",
      "Requirement already satisfied: dill>=0.3.6 in /opt/conda/lib/python3.8/site-packages (from pathos->sagemaker<3,>=2) (0.3.6)\n",
      "Requirement already satisfied: numexpr in /opt/conda/lib/python3.8/site-packages (from pyLDAvis->pycaret<3,>=2) (2.7.3)\n",
      "Collecting funcy\n",
      "  Downloading funcy-2.0-py2.py3-none-any.whl (30 kB)\n",
      "Collecting pyLDAvis\n",
      "  Downloading pyLDAvis-3.3.1.tar.gz (1.7 MB)\n",
      "\u001b[2K     \u001b[90m━━━━━━━━━━━━━━━━━━━━━━━━━━━━━━━━━━━━━━━━\u001b[0m \u001b[32m1.7/1.7 MB\u001b[0m \u001b[31m21.2 MB/s\u001b[0m eta \u001b[36m0:00:00\u001b[0m:00:01\u001b[0m\n",
      "\u001b[?25h  Installing build dependencies ... \u001b[?25ldone\n",
      "\u001b[?25h  Getting requirements to build wheel ... \u001b[?25ldone\n",
      "\u001b[?25h  Installing backend dependencies ... \u001b[?25ldone\n",
      "\u001b[?25h  Preparing metadata (pyproject.toml) ... \u001b[?25ldone\n",
      "\u001b[?25hCollecting sklearn\n",
      "  Downloading sklearn-0.0.post4.tar.gz (3.6 kB)\n",
      "  Preparing metadata (setup.py) ... \u001b[?25ldone\n",
      "\u001b[?25hRequirement already satisfied: future in /opt/conda/lib/python3.8/site-packages (from pyLDAvis->pycaret<3,>=2) (0.18.3)\n",
      "Requirement already satisfied: contextlib2>=0.5.5 in /opt/conda/lib/python3.8/site-packages (from schema->sagemaker<3,>=2) (0.6.0.post1)\n",
      "Collecting pynndescent>=0.5\n",
      "  Downloading pynndescent-0.5.10.tar.gz (1.1 MB)\n",
      "\u001b[2K     \u001b[90m━━━━━━━━━━━━━━━━━━━━━━━━━━━━━━━━━━━━━━━━\u001b[0m \u001b[32m1.1/1.1 MB\u001b[0m \u001b[31m17.7 MB/s\u001b[0m eta \u001b[36m0:00:00\u001b[0m:00:01\u001b[0m\n",
      "\u001b[?25h  Preparing metadata (setup.py) ... \u001b[?25ldone\n",
      "\u001b[?25hCollecting frozenlist>=1.1.1\n",
      "  Downloading frozenlist-1.3.3-cp38-cp38-manylinux_2_5_x86_64.manylinux1_x86_64.manylinux_2_17_x86_64.manylinux2014_x86_64.whl (161 kB)\n",
      "\u001b[2K     \u001b[90m━━━━━━━━━━━━━━━━━━━━━━━━━━━━━━━━━━━━━━━\u001b[0m \u001b[32m161.3/161.3 kB\u001b[0m \u001b[31m3.7 MB/s\u001b[0m eta \u001b[36m0:00:00\u001b[0ma \u001b[36m0:00:01\u001b[0m\n",
      "\u001b[?25hRequirement already satisfied: charset-normalizer<4.0,>=2.0 in /opt/conda/lib/python3.8/site-packages (from aiohttp<4.0.0,>=3.8.0->gremlinpython<4.0.0,>=3.5.2->awswrangler<3,>=2) (2.0.4)\n",
      "Collecting multidict<7.0,>=4.5\n",
      "  Downloading multidict-6.0.4-cp38-cp38-manylinux_2_17_x86_64.manylinux2014_x86_64.whl (121 kB)\n",
      "\u001b[2K     \u001b[90m━━━━━━━━━━━━━━━━━━━━━━━━━━━━━━━━━━━━━━━\u001b[0m \u001b[32m121.3/121.3 kB\u001b[0m \u001b[31m2.7 MB/s\u001b[0m eta \u001b[36m0:00:00\u001b[0ma \u001b[36m0:00:01\u001b[0m\n",
      "\u001b[?25hCollecting async-timeout<5.0,>=4.0.0a3\n",
      "  Downloading async_timeout-4.0.2-py3-none-any.whl (5.8 kB)\n",
      "Collecting yarl<2.0,>=1.0\n",
      "  Downloading yarl-1.9.2-cp38-cp38-manylinux_2_17_x86_64.manylinux2014_x86_64.whl (266 kB)\n",
      "\u001b[2K     \u001b[90m━━━━━━━━━━━━━━━━━━━━━━━━━━━━━━━━━━━━━━━\u001b[0m \u001b[32m266.9/266.9 kB\u001b[0m \u001b[31m5.2 MB/s\u001b[0m eta \u001b[36m0:00:00\u001b[0m00:01\u001b[0m\n",
      "\u001b[?25hCollecting aiosignal>=1.1.2\n",
      "  Downloading aiosignal-1.3.1-py3-none-any.whl (7.6 kB)\n",
      "Collecting importlib-resources\n",
      "  Downloading importlib_resources-5.12.0-py3-none-any.whl (36 kB)\n",
      "Collecting Mako\n",
      "  Downloading Mako-1.2.4-py3-none-any.whl (78 kB)\n",
      "\u001b[2K     \u001b[90m━━━━━━━━━━━━━━━━━━━━━━━━━━━━━━━━━━━━━━━━\u001b[0m \u001b[32m78.7/78.7 kB\u001b[0m \u001b[31m1.8 MB/s\u001b[0m eta \u001b[36m0:00:00\u001b[0mta \u001b[36m0:00:01\u001b[0m\n",
      "\u001b[?25hRequirement already satisfied: soupsieve>1.2 in /opt/conda/lib/python3.8/site-packages (from beautifulsoup4<5.0.0,>=4.7.0->redshift-connector<2.1.0,>=2.0.889->awswrangler<3,>=2) (2.2.1)\n",
      "Collecting pyjwt>=1.7.0\n",
      "  Downloading PyJWT-2.6.0-py3-none-any.whl (20 kB)\n",
      "Collecting oauthlib>=3.1.0\n",
      "  Using cached oauthlib-3.2.2-py3-none-any.whl (151 kB)\n",
      "Requirement already satisfied: tabulate>=0.7.7 in /opt/conda/lib/python3.8/site-packages (from databricks-cli<1,>=0.8.7->mlflow->pycaret<3,>=2) (0.9.0)\n",
      "Requirement already satisfied: websocket-client>=0.32.0 in /opt/conda/lib/python3.8/site-packages (from docker<7,>=4.0.0->mlflow->pycaret<3,>=2) (0.59.0)\n",
      "Requirement already satisfied: Werkzeug>=0.15 in /opt/conda/lib/python3.8/site-packages (from Flask<3->mlflow->pycaret<3,>=2) (2.2.3)\n",
      "Requirement already satisfied: itsdangerous>=0.24 in /opt/conda/lib/python3.8/site-packages (from Flask<3->mlflow->pycaret<3,>=2) (2.0.1)\n",
      "Collecting gitdb<5,>=4.0.1\n",
      "  Downloading gitdb-4.0.10-py3-none-any.whl (62 kB)\n",
      "\u001b[2K     \u001b[90m━━━━━━━━━━━━━━━━━━━━━━━━━━━━━━━━━━━━━━━━\u001b[0m \u001b[32m62.7/62.7 kB\u001b[0m \u001b[31m1.6 MB/s\u001b[0m eta \u001b[36m0:00:00\u001b[0m\n",
      "\u001b[?25hRequirement already satisfied: pyzmq>=17 in /opt/conda/lib/python3.8/site-packages (from ipykernel>=4.5.1->ipywidgets->pycaret<3,>=2) (25.0.2)\n",
      "Requirement already satisfied: tornado>=6.1 in /opt/conda/lib/python3.8/site-packages (from ipykernel>=4.5.1->ipywidgets->pycaret<3,>=2) (6.2)\n",
      "Requirement already satisfied: debugpy>=1.0 in /opt/conda/lib/python3.8/site-packages (from ipykernel>=4.5.1->ipywidgets->pycaret<3,>=2) (1.4.1)\n",
      "Requirement already satisfied: comm>=0.1.1 in /opt/conda/lib/python3.8/site-packages (from ipykernel>=4.5.1->ipywidgets->pycaret<3,>=2) (0.1.1)\n",
      "Requirement already satisfied: jupyter-client>=6.1.12 in /opt/conda/lib/python3.8/site-packages (from ipykernel>=4.5.1->ipywidgets->pycaret<3,>=2) (8.1.0)\n",
      "Requirement already satisfied: psutil in /opt/conda/lib/python3.8/site-packages (from ipykernel>=4.5.1->ipywidgets->pycaret<3,>=2) (5.8.0)\n",
      "Requirement already satisfied: parso<0.9.0,>=0.8.0 in /opt/conda/lib/python3.8/site-packages (from jedi>=0.16->IPython->pycaret<3,>=2) (0.8.2)\n",
      "Requirement already satisfied: MarkupSafe>=2.0 in /opt/conda/lib/python3.8/site-packages (from Jinja2<4,>=2.11->mlflow->pycaret<3,>=2) (2.1.2)\n",
      "Requirement already satisfied: fastjsonschema in /opt/conda/lib/python3.8/site-packages (from nbformat>=4.2.0->ipywidgets->pycaret<3,>=2) (2.16.3)\n",
      "Requirement already satisfied: jupyter-core in /opt/conda/lib/python3.8/site-packages (from nbformat>=4.2.0->ipywidgets->pycaret<3,>=2) (5.3.0)\n",
      "Requirement already satisfied: ptyprocess>=0.5 in /opt/conda/lib/python3.8/site-packages (from pexpect>4.3->IPython->pycaret<3,>=2) (0.7.0)\n",
      "Requirement already satisfied: wcwidth in /opt/conda/lib/python3.8/site-packages (from prompt-toolkit!=3.0.37,<3.1.0,>=3.0.30->IPython->pycaret<3,>=2) (0.2.5)\n",
      "Requirement already satisfied: idna<4,>=2.5 in /opt/conda/lib/python3.8/site-packages (from requests<3.0.0,>=2.4.0->opensearch-py<3,>=1->awswrangler<3,>=2) (3.2)\n",
      "Collecting asn1crypto>=1.5.1\n",
      "  Downloading asn1crypto-1.5.1-py2.py3-none-any.whl (105 kB)\n",
      "\u001b[2K     \u001b[90m━━━━━━━━━━━━━━━━━━━━━━━━━━━━━━━━━━━━━━━\u001b[0m \u001b[32m105.0/105.0 kB\u001b[0m \u001b[31m2.7 MB/s\u001b[0m eta \u001b[36m0:00:00\u001b[0m00:01\u001b[0m\n",
      "\u001b[?25hRequirement already satisfied: greenlet!=0.4.17 in /opt/conda/lib/python3.8/site-packages (from sqlalchemy<3,>=1.4.0->mlflow->pycaret<3,>=2) (1.1.1)\n",
      "Requirement already satisfied: notebook>=4.4.1 in /opt/conda/lib/python3.8/site-packages (from widgetsnbextension~=3.5.0->ipywidgets->pycaret<3,>=2) (6.5.4)\n",
      "Requirement already satisfied: asttokens>=2.1.0 in /opt/conda/lib/python3.8/site-packages (from stack-data->IPython->pycaret<3,>=2) (2.2.1)\n",
      "Requirement already satisfied: executing>=1.2.0 in /opt/conda/lib/python3.8/site-packages (from stack-data->IPython->pycaret<3,>=2) (1.2.0)\n",
      "Requirement already satisfied: pure-eval in /opt/conda/lib/python3.8/site-packages (from stack-data->IPython->pycaret<3,>=2) (0.2.2)\n",
      "Collecting visions[type_image_path]==0.7.5\n",
      "  Downloading visions-0.7.5-py3-none-any.whl (102 kB)\n",
      "\u001b[2K     \u001b[90m━━━━━━━━━━━━━━━━━━━━━━━━━━━━━━━━━━━━━━━\u001b[0m \u001b[32m102.7/102.7 kB\u001b[0m \u001b[31m2.1 MB/s\u001b[0m eta \u001b[36m0:00:00\u001b[0m00:01\u001b[0m\n",
      "\u001b[?25hCollecting phik<0.13,>=0.11.1\n",
      "  Downloading phik-0.12.3-cp38-cp38-manylinux_2_17_x86_64.manylinux2014_x86_64.whl (679 kB)\n",
      "\u001b[2K     \u001b[90m━━━━━━━━━━━━━━━━━━━━━━━━━━━━━━━━━━━━━━\u001b[0m \u001b[32m679.5/679.5 kB\u001b[0m \u001b[31m12.8 MB/s\u001b[0m eta \u001b[36m0:00:00\u001b[0m00:01\u001b[0m\n",
      "\u001b[?25hCollecting statsmodels<0.14,>=0.13.2\n",
      "  Downloading statsmodels-0.13.5-cp38-cp38-manylinux_2_17_x86_64.manylinux2014_x86_64.whl (9.9 MB)\n",
      "\u001b[2K     \u001b[90m━━━━━━━━━━━━━━━━━━━━━━━━━━━━━━━━━━━━━━━━\u001b[0m \u001b[32m9.9/9.9 MB\u001b[0m \u001b[31m47.6 MB/s\u001b[0m eta \u001b[36m0:00:00\u001b[0m:00:01\u001b[0m00:01\u001b[0m\n",
      "\u001b[?25hCollecting htmlmin==0.1.12\n",
      "  Downloading htmlmin-0.1.12.tar.gz (19 kB)\n",
      "  Preparing metadata (setup.py) ... \u001b[?25ldone\n",
      "\u001b[?25hCollecting multimethod<1.10,>=1.4\n",
      "  Downloading multimethod-1.9.1-py3-none-any.whl (10 kB)\n",
      "Collecting typeguard<2.14,>=2.13.2\n",
      "  Downloading typeguard-2.13.3-py3-none-any.whl (17 kB)\n",
      "Collecting pydantic<1.11,>=1.8.1\n",
      "  Downloading pydantic-1.10.7-cp38-cp38-manylinux_2_17_x86_64.manylinux2014_x86_64.whl (3.2 MB)\n",
      "\u001b[2K     \u001b[90m━━━━━━━━━━━━━━━━━━━━━━━━━━━━━━━━━━━━━━━━\u001b[0m \u001b[32m3.2/3.2 MB\u001b[0m \u001b[31m32.7 MB/s\u001b[0m eta \u001b[36m0:00:00\u001b[0m:00:01\u001b[0m\n",
      "\u001b[?25hCollecting imagehash==4.3.1\n",
      "  Downloading ImageHash-4.3.1-py2.py3-none-any.whl (296 kB)\n",
      "\u001b[2K     \u001b[90m━━━━━━━━━━━━━━━━━━━━━━━━━━━━━━━━━━━━━━━\u001b[0m \u001b[32m296.5/296.5 kB\u001b[0m \u001b[31m6.0 MB/s\u001b[0m eta \u001b[36m0:00:00\u001b[0ma \u001b[36m0:00:01\u001b[0m\n",
      "\u001b[?25hRequirement already satisfied: PyWavelets in /opt/conda/lib/python3.8/site-packages (from imagehash==4.3.1->ydata-profiling->pandas-profiling>=2.8.0->pycaret<3,>=2) (1.1.1)\n",
      "Requirement already satisfied: networkx>=2.4 in /opt/conda/lib/python3.8/site-packages (from visions[type_image_path]==0.7.5->ydata-profiling->pandas-profiling>=2.8.0->pycaret<3,>=2) (2.6.3)\n",
      "Collecting tangled-up-in-unicode>=0.0.4\n",
      "  Downloading tangled_up_in_unicode-0.2.0-py3-none-any.whl (4.7 MB)\n",
      "\u001b[2K     \u001b[90m━━━━━━━━━━━━━━━━━━━━━━━━━━━━━━━━━━━━━━━━\u001b[0m \u001b[32m4.7/4.7 MB\u001b[0m \u001b[31m38.3 MB/s\u001b[0m eta \u001b[36m0:00:00\u001b[0m:00:01\u001b[0m00:01\u001b[0m\n",
      "\u001b[?25hCollecting smmap<6,>=3.0.1\n",
      "  Downloading smmap-5.0.0-py3-none-any.whl (24 kB)\n",
      "Requirement already satisfied: terminado>=0.8.3 in /opt/conda/lib/python3.8/site-packages (from notebook>=4.4.1->widgetsnbextension~=3.5.0->ipywidgets->pycaret<3,>=2) (0.9.4)\n",
      "Requirement already satisfied: Send2Trash>=1.8.0 in /opt/conda/lib/python3.8/site-packages (from notebook>=4.4.1->widgetsnbextension~=3.5.0->ipywidgets->pycaret<3,>=2) (1.8.0)\n",
      "Requirement already satisfied: argon2-cffi in /opt/conda/lib/python3.8/site-packages (from notebook>=4.4.1->widgetsnbextension~=3.5.0->ipywidgets->pycaret<3,>=2) (20.1.0)\n",
      "Requirement already satisfied: prometheus-client in /opt/conda/lib/python3.8/site-packages (from notebook>=4.4.1->widgetsnbextension~=3.5.0->ipywidgets->pycaret<3,>=2) (0.11.0)\n",
      "Requirement already satisfied: nbconvert>=5 in /opt/conda/lib/python3.8/site-packages (from notebook>=4.4.1->widgetsnbextension~=3.5.0->ipywidgets->pycaret<3,>=2) (7.3.1)\n",
      "Requirement already satisfied: nbclassic>=0.4.7 in /opt/conda/lib/python3.8/site-packages (from notebook>=4.4.1->widgetsnbextension~=3.5.0->ipywidgets->pycaret<3,>=2) (0.5.5)\n",
      "Collecting packaging>=20.0\n",
      "  Using cached packaging-23.1-py3-none-any.whl (48 kB)\n",
      "Requirement already satisfied: patsy>=0.5.2 in /opt/conda/lib/python3.8/site-packages (from statsmodels<0.14,>=0.13.2->ydata-profiling->pandas-profiling>=2.8.0->pycaret<3,>=2) (0.5.2)\n",
      "Requirement already satisfied: jupyter-server>=1.8 in /opt/conda/lib/python3.8/site-packages (from nbclassic>=0.4.7->notebook>=4.4.1->widgetsnbextension~=3.5.0->ipywidgets->pycaret<3,>=2) (2.5.0)\n",
      "Requirement already satisfied: notebook-shim>=0.1.0 in /opt/conda/lib/python3.8/site-packages (from nbclassic>=0.4.7->notebook>=4.4.1->widgetsnbextension~=3.5.0->ipywidgets->pycaret<3,>=2) (0.2.2)\n",
      "Requirement already satisfied: jupyterlab-pygments in /opt/conda/lib/python3.8/site-packages (from nbconvert>=5->notebook>=4.4.1->widgetsnbextension~=3.5.0->ipywidgets->pycaret<3,>=2) (0.1.2)\n",
      "Requirement already satisfied: tinycss2 in /opt/conda/lib/python3.8/site-packages (from nbconvert>=5->notebook>=4.4.1->widgetsnbextension~=3.5.0->ipywidgets->pycaret<3,>=2) (1.2.1)\n",
      "Requirement already satisfied: defusedxml in /opt/conda/lib/python3.8/site-packages (from nbconvert>=5->notebook>=4.4.1->widgetsnbextension~=3.5.0->ipywidgets->pycaret<3,>=2) (0.7.1)\n",
      "Requirement already satisfied: pandocfilters>=1.4.1 in /opt/conda/lib/python3.8/site-packages (from nbconvert>=5->notebook>=4.4.1->widgetsnbextension~=3.5.0->ipywidgets->pycaret<3,>=2) (1.4.3)\n",
      "Requirement already satisfied: mistune<3,>=2.0.3 in /opt/conda/lib/python3.8/site-packages (from nbconvert>=5->notebook>=4.4.1->widgetsnbextension~=3.5.0->ipywidgets->pycaret<3,>=2) (2.0.5)\n",
      "Requirement already satisfied: bleach in /opt/conda/lib/python3.8/site-packages (from nbconvert>=5->notebook>=4.4.1->widgetsnbextension~=3.5.0->ipywidgets->pycaret<3,>=2) (4.0.0)\n",
      "Requirement already satisfied: nbclient>=0.5.0 in /opt/conda/lib/python3.8/site-packages (from nbconvert>=5->notebook>=4.4.1->widgetsnbextension~=3.5.0->ipywidgets->pycaret<3,>=2) (0.5.3)\n",
      "Requirement already satisfied: cffi>=1.0.0 in /opt/conda/lib/python3.8/site-packages (from argon2-cffi->notebook>=4.4.1->widgetsnbextension~=3.5.0->ipywidgets->pycaret<3,>=2) (1.14.6)\n",
      "Requirement already satisfied: pycparser in /opt/conda/lib/python3.8/site-packages (from cffi>=1.0.0->argon2-cffi->notebook>=4.4.1->widgetsnbextension~=3.5.0->ipywidgets->pycaret<3,>=2) (2.20)\n",
      "Requirement already satisfied: anyio>=3.1.0 in /opt/conda/lib/python3.8/site-packages (from jupyter-server>=1.8->nbclassic>=0.4.7->notebook>=4.4.1->widgetsnbextension~=3.5.0->ipywidgets->pycaret<3,>=2) (3.6.2)\n",
      "Requirement already satisfied: jupyter-events>=0.4.0 in /opt/conda/lib/python3.8/site-packages (from jupyter-server>=1.8->nbclassic>=0.4.7->notebook>=4.4.1->widgetsnbextension~=3.5.0->ipywidgets->pycaret<3,>=2) (0.6.3)\n",
      "Requirement already satisfied: jupyter-server-terminals in /opt/conda/lib/python3.8/site-packages (from jupyter-server>=1.8->nbclassic>=0.4.7->notebook>=4.4.1->widgetsnbextension~=3.5.0->ipywidgets->pycaret<3,>=2) (0.4.4)\n",
      "Requirement already satisfied: async-generator in /opt/conda/lib/python3.8/site-packages (from nbclient>=0.5.0->nbconvert>=5->notebook>=4.4.1->widgetsnbextension~=3.5.0->ipywidgets->pycaret<3,>=2) (1.10)\n",
      "Requirement already satisfied: webencodings in /opt/conda/lib/python3.8/site-packages (from bleach->nbconvert>=5->notebook>=4.4.1->widgetsnbextension~=3.5.0->ipywidgets->pycaret<3,>=2) (0.5.1)\n",
      "Requirement already satisfied: sniffio>=1.1 in /opt/conda/lib/python3.8/site-packages (from anyio>=3.1.0->jupyter-server>=1.8->nbclassic>=0.4.7->notebook>=4.4.1->widgetsnbextension~=3.5.0->ipywidgets->pycaret<3,>=2) (1.2.0)\n",
      "Requirement already satisfied: python-json-logger>=2.0.4 in /opt/conda/lib/python3.8/site-packages (from jupyter-events>=0.4.0->jupyter-server>=1.8->nbclassic>=0.4.7->notebook>=4.4.1->widgetsnbextension~=3.5.0->ipywidgets->pycaret<3,>=2) (2.0.7)\n",
      "Requirement already satisfied: rfc3986-validator>=0.1.1 in /opt/conda/lib/python3.8/site-packages (from jupyter-events>=0.4.0->jupyter-server>=1.8->nbclassic>=0.4.7->notebook>=4.4.1->widgetsnbextension~=3.5.0->ipywidgets->pycaret<3,>=2) (0.1.1)\n",
      "Requirement already satisfied: rfc3339-validator in /opt/conda/lib/python3.8/site-packages (from jupyter-events>=0.4.0->jupyter-server>=1.8->nbclassic>=0.4.7->notebook>=4.4.1->widgetsnbextension~=3.5.0->ipywidgets->pycaret<3,>=2) (0.1.4)\n",
      "\u001b[33mWARNING: jsonschema 3.2.0 does not provide the extra 'format-nongpl'\u001b[0m\u001b[33m\n",
      "\u001b[0mBuilding wheels for collected packages: sagemaker, cufflinks, pyLDAvis, pyod, umap-learn, databricks-cli, pynndescent, sklearn, htmlmin\n",
      "  Building wheel for sagemaker (setup.py) ... \u001b[?25ldone\n",
      "\u001b[?25h  Created wheel for sagemaker: filename=sagemaker-2.153.0-py2.py3-none-any.whl size=1008105 sha256=3d6cb4caed77fe00cfad02142bd6f72d7062976293166d514072a8ca863ddfef\n",
      "  Stored in directory: /root/.cache/pip/wheels/17/10/ba/9b67908ba983921c1fea2ceea7acf9651e63b4989842909ab9\n",
      "  Building wheel for cufflinks (setup.py) ... \u001b[?25ldone\n",
      "\u001b[?25h  Created wheel for cufflinks: filename=cufflinks-0.17.3-py3-none-any.whl size=67903 sha256=73b5745b3caee9fc420e258265ca9017f0831797a829d53a4dcda6b5bfd85f2b\n",
      "  Stored in directory: /root/.cache/pip/wheels/6b/76/62/6da97734911ffcbdd559fd1a3f28526321f0ae699182a23866\n",
      "  Building wheel for pyLDAvis (pyproject.toml) ... \u001b[?25ldone\n",
      "\u001b[?25h  Created wheel for pyLDAvis: filename=pyLDAvis-3.3.1-py2.py3-none-any.whl size=136880 sha256=d715bc1837363ae060dd0a15232bdc97c3762381f6e883b6e5f7af3e9c892e4e\n",
      "  Stored in directory: /root/.cache/pip/wheels/90/61/ec/9dbe9efc3acf9c4e37ba70fbbcc3f3a0ebd121060aa593181a\n",
      "  Building wheel for pyod (setup.py) ... \u001b[?25ldone\n",
      "\u001b[?25h  Created wheel for pyod: filename=pyod-1.0.9-py3-none-any.whl size=184097 sha256=3b586c601087e07b3265ee2a29fe5302d0fc842d7481a39778de93c00eea6b6c\n",
      "  Stored in directory: /root/.cache/pip/wheels/1a/ec/04/08882538e197056f24532d6b7a00fd18e9c34d7c44faf3cd0c\n",
      "  Building wheel for umap-learn (setup.py) ... \u001b[?25ldone\n",
      "\u001b[?25h  Created wheel for umap-learn: filename=umap_learn-0.5.3-py3-none-any.whl size=82816 sha256=0f9ad675b0023f707e8ae7f7051527babf8061ab11b8ed632c6daae78c68a292\n",
      "  Stored in directory: /root/.cache/pip/wheels/a9/3a/67/06a8950e053725912e6a8c42c4a3a241410f6487b8402542ea\n",
      "  Building wheel for databricks-cli (setup.py) ... \u001b[?25ldone\n",
      "\u001b[?25h  Created wheel for databricks-cli: filename=databricks_cli-0.17.7-py3-none-any.whl size=143860 sha256=2129164747a6707366c46d04685611c03eee3f5e1d2845cdbf3cbdc3cbddbda5\n",
      "  Stored in directory: /root/.cache/pip/wheels/65/c6/f0/85c95278b97ff8245c981b81f00bc05eb289cf79f884db2cbc\n",
      "  Building wheel for pynndescent (setup.py) ... \u001b[?25ldone\n",
      "\u001b[?25h  Created wheel for pynndescent: filename=pynndescent-0.5.10-py3-none-any.whl size=55622 sha256=28c9e97433946521e6a1af7266947cafb69b97b7e5ea3fec133a5f2b27a47886\n",
      "  Stored in directory: /root/.cache/pip/wheels/f8/32/54/fa1fd0454e0441eaa32550ea2a86da3f64eb7c8e5a82436770\n",
      "  Building wheel for sklearn (setup.py) ... \u001b[?25ldone\n",
      "\u001b[?25h  Created wheel for sklearn: filename=sklearn-0.0.post4-py3-none-any.whl size=2951 sha256=1df4fd7151e704c035b41764ed7d69bff0e7580f9be7dbc43f1d7a582dc6ffc6\n",
      "  Stored in directory: /root/.cache/pip/wheels/84/3f/80/e49971719e76c0387733de7973744b4b19b01dc14afcce8829\n",
      "  Building wheel for htmlmin (setup.py) ... \u001b[?25ldone\n",
      "\u001b[?25h  Created wheel for htmlmin: filename=htmlmin-0.1.12-py3-none-any.whl size=27081 sha256=1453386a625f663c1df89d2968de667a50acbc332aebb42e4174257c64f61219\n",
      "  Stored in directory: /root/.cache/pip/wheels/23/14/6e/4be5bfeeb027f4939a01764b48edd5996acf574b0913fe5243\n",
      "Successfully built sagemaker cufflinks pyLDAvis pyod umap-learn databricks-cli pynndescent sklearn htmlmin\n",
      "Installing collected packages: wasabi, sklearn, plac, htmlmin, funcy, cymem, colorlover, asn1crypto, aenum, typeguard, tangled-up-in-unicode, srsly, sqlparse, smmap, smart-open, scramp, querystring-parser, python-utils, pymysql, pyjwt, pydantic, packaging, oauthlib, numpy, murmurhash, multimethod, multidict, Mako, llvmlite, jsonpath-ng, isodate, importlib-resources, importlib-metadata, gunicorn, frozenlist, cloudpickle, catalogue, backoff, async-timeout, yarl, textblob, scipy, requests-aws4auth, pyarrow, progressbar2, preshed, pg8000, opensearch-py, numba, markdown, gitdb, databricks-cli, botocore, blis, alembic, aiosignal, wordcloud, visions, thinc, statsmodels, scikit-learn, phik, imagehash, gitpython, gensim, aiohttp, yellowbrick, spacy, scikit-plot, pyod, pynndescent, pyLDAvis, mlxtend, mlflow, lightgbm, kmodes, imbalanced-learn, gremlinpython, boto3, Boruta, ydata-profiling, umap-learn, sagemaker, redshift-connector, pandas-profiling, awswrangler, cufflinks, pycaret\n",
      "  Attempting uninstall: asn1crypto\n",
      "    Found existing installation: asn1crypto 1.4.0\n",
      "    Uninstalling asn1crypto-1.4.0:\n",
      "      Successfully uninstalled asn1crypto-1.4.0\n",
      "  Attempting uninstall: packaging\n",
      "    Found existing installation: packaging 21.0\n",
      "    Uninstalling packaging-21.0:\n",
      "      Successfully uninstalled packaging-21.0\n",
      "  Attempting uninstall: numpy\n",
      "    Found existing installation: numpy 1.24.2\n",
      "    Uninstalling numpy-1.24.2:\n",
      "      Successfully uninstalled numpy-1.24.2\n",
      "  Attempting uninstall: llvmlite\n",
      "    Found existing installation: llvmlite 0.37.0\n",
      "    Uninstalling llvmlite-0.37.0:\n",
      "      Successfully uninstalled llvmlite-0.37.0\n",
      "  Attempting uninstall: importlib-metadata\n",
      "    Found existing installation: importlib-metadata 6.3.0\n",
      "    Uninstalling importlib-metadata-6.3.0:\n",
      "      Successfully uninstalled importlib-metadata-6.3.0\n",
      "  Attempting uninstall: cloudpickle\n",
      "    Found existing installation: cloudpickle 2.0.0\n",
      "    Uninstalling cloudpickle-2.0.0:\n",
      "      Successfully uninstalled cloudpickle-2.0.0\n",
      "  Attempting uninstall: scipy\n",
      "    Found existing installation: scipy 1.7.1\n",
      "    Uninstalling scipy-1.7.1:\n",
      "      Successfully uninstalled scipy-1.7.1\n",
      "  Attempting uninstall: pyarrow\n",
      "    Found existing installation: pyarrow 11.0.0\n",
      "    Uninstalling pyarrow-11.0.0:\n",
      "      Successfully uninstalled pyarrow-11.0.0\n",
      "  Attempting uninstall: numba\n",
      "    Found existing installation: numba 0.54.1\n",
      "    Uninstalling numba-0.54.1:\n",
      "      Successfully uninstalled numba-0.54.1\n",
      "  Attempting uninstall: botocore\n",
      "    Found existing installation: botocore 1.29.111\n",
      "    Uninstalling botocore-1.29.111:\n",
      "      Successfully uninstalled botocore-1.29.111\n",
      "  Attempting uninstall: statsmodels\n",
      "    Found existing installation: statsmodels 0.12.2\n",
      "    Uninstalling statsmodels-0.12.2:\n",
      "      Successfully uninstalled statsmodels-0.12.2\n",
      "  Attempting uninstall: scikit-learn\n",
      "    Found existing installation: scikit-learn 0.24.2\n",
      "    Uninstalling scikit-learn-0.24.2:\n",
      "      Successfully uninstalled scikit-learn-0.24.2\n",
      "  Attempting uninstall: boto3\n",
      "    Found existing installation: boto3 1.26.111\n",
      "    Uninstalling boto3-1.26.111:\n",
      "      Successfully uninstalled boto3-1.26.111\n",
      "  Attempting uninstall: sagemaker\n",
      "    Found existing installation: sagemaker 2.145.0\n",
      "    Uninstalling sagemaker-2.145.0:\n",
      "      Successfully uninstalled sagemaker-2.145.0\n",
      "\u001b[31mERROR: pip's dependency resolver does not currently take into account all the packages that are installed. This behaviour is the source of the following dependency conflicts.\n",
      "spyder 5.1.5 requires pyqt5<5.13, which is not installed.\n",
      "spyder 5.1.5 requires pyqtwebengine<5.13, which is not installed.\n",
      "daal4py 2021.3.0 requires daal==2021.2.3, which is not installed.\n",
      "spyder 5.1.5 requires pylint<2.10.0,>=2.5.0, but you have pylint 3.0.0a6 which is incompatible.\n",
      "spyder-kernels 2.1.3 requires jupyter-client<7,>=5.3.4, but you have jupyter-client 8.1.0 which is incompatible.\n",
      "jupyterlab 3.2.1 requires jupyter-server~=1.4, but you have jupyter-server 2.5.0 which is incompatible.\n",
      "jupyterlab-server 2.8.2 requires jupyter-server~=1.4, but you have jupyter-server 2.5.0 which is incompatible.\n",
      "awscli 1.27.111 requires botocore==1.29.111, but you have botocore 1.29.130 which is incompatible.\u001b[0m\u001b[31m\n",
      "\u001b[0mSuccessfully installed Boruta-0.3 Mako-1.2.4 aenum-3.1.12 aiohttp-3.8.4 aiosignal-1.3.1 alembic-1.10.4 asn1crypto-1.5.1 async-timeout-4.0.2 awswrangler-2.20.1 backoff-2.2.1 blis-0.7.9 boto3-1.26.130 botocore-1.29.130 catalogue-1.0.2 cloudpickle-2.2.1 colorlover-0.3.0 cufflinks-0.17.3 cymem-2.0.7 databricks-cli-0.17.7 frozenlist-1.3.3 funcy-2.0 gensim-3.8.3 gitdb-4.0.10 gitpython-3.1.31 gremlinpython-3.6.3 gunicorn-20.1.0 htmlmin-0.1.12 imagehash-4.3.1 imbalanced-learn-0.7.0 importlib-metadata-4.13.0 importlib-resources-5.12.0 isodate-0.6.1 jsonpath-ng-1.5.3 kmodes-0.12.2 lightgbm-3.3.5 llvmlite-0.36.0 markdown-3.4.3 mlflow-2.3.1 mlxtend-0.19.0 multidict-6.0.4 multimethod-1.9.1 murmurhash-1.0.9 numba-0.53.1 numpy-1.23.4 oauthlib-3.2.2 opensearch-py-2.2.0 packaging-23.1 pandas-profiling-3.6.6 pg8000-1.29.4 phik-0.12.3 plac-1.1.3 preshed-3.0.8 progressbar2-4.2.0 pyLDAvis-3.3.1 pyarrow-10.0.1 pycaret-2.3.10 pydantic-1.10.7 pyjwt-2.6.0 pymysql-1.0.3 pynndescent-0.5.10 pyod-1.0.9 python-utils-3.5.2 querystring-parser-1.2.4 redshift-connector-2.0.910 requests-aws4auth-1.2.3 sagemaker-2.153.0 scikit-learn-0.23.2 scikit-plot-0.3.7 scipy-1.5.4 scramp-1.4.4 sklearn-0.0.post4 smart-open-6.3.0 smmap-5.0.0 spacy-2.3.9 sqlparse-0.4.4 srsly-1.0.6 statsmodels-0.13.5 tangled-up-in-unicode-0.2.0 textblob-0.17.1 thinc-7.4.6 typeguard-2.13.3 umap-learn-0.5.3 visions-0.7.5 wasabi-0.10.1 wordcloud-1.9.1.1 yarl-1.9.2 ydata-profiling-4.1.2 yellowbrick-1.2.1\n",
      "\u001b[33mWARNING: Running pip as the 'root' user can result in broken permissions and conflicting behaviour with the system package manager. It is recommended to use a virtual environment instead: https://pip.pypa.io/warnings/venv\u001b[0m\u001b[33m\n",
      "\u001b[0m\n",
      "\u001b[1m[\u001b[0m\u001b[34;49mnotice\u001b[0m\u001b[1;39;49m]\u001b[0m\u001b[39;49m A new release of pip is available: \u001b[0m\u001b[31;49m23.0.1\u001b[0m\u001b[39;49m -> \u001b[0m\u001b[32;49m23.1.2\u001b[0m\n",
      "\u001b[1m[\u001b[0m\u001b[34;49mnotice\u001b[0m\u001b[1;39;49m]\u001b[0m\u001b[39;49m To update, run: \u001b[0m\u001b[32;49mpip install --upgrade pip\u001b[0m\n"
     ]
    }
   ],
   "source": [
    "!pip install --upgrade \"boto3>=1,<2\" \"sagemaker>=2,<3\" \"pycaret>=2,<3\" \"awswrangler>=2,<3\""
   ]
  },
  {
   "cell_type": "code",
   "execution_count": 3,
   "id": "cffb278e-c2c7-4d26-8a5f-54765f2e3a74",
   "metadata": {
    "tags": []
   },
   "outputs": [
    {
     "name": "stderr",
     "output_type": "stream",
     "text": [
      "INFO:matplotlib.font_manager:generated new fontManager\n"
     ]
    }
   ],
   "source": [
    "import sys\n",
    "import json\n",
    "from pprint import pprint\n",
    "from logging import (\n",
    "    getLogger,\n",
    "    StreamHandler,\n",
    "    INFO,\n",
    ")\n",
    "# aws\n",
    "import boto3\n",
    "from botocore.exceptions import ClientError\n",
    "from sagemaker.session import Session\n",
    "from sagemaker.utils import unique_name_from_base\n",
    "from sagemaker.s3 import (\n",
    "    S3Uploader,\n",
    "    S3Downloader,\n",
    ")\n",
    "import awswrangler as wr\n",
    "from sagemaker.experiments import Run\n",
    "# ml\n",
    "from pycaret.datasets import get_data\n",
    "from pycaret.regression import (\n",
    "    setup,\n",
    "    compare_models,\n",
    "    models,\n",
    "    create_model,\n",
    "    tune_model,\n",
    "    plot_model,\n",
    "    predict_model,\n",
    "    finalize_model,\n",
    "    save_model,\n",
    "    load_model,\n",
    "    pull,\n",
    ")\n",
    "from pycaret.utils import check_metric\n",
    "import numpy as np\n",
    "import pandas as pd\n",
    "\n",
    "logger = getLogger(__name__)\n",
    "handler = StreamHandler(sys.stdout)\n",
    "handler.setLevel(INFO)\n",
    "logger.addHandler(handler)\n",
    "\n",
    "iam = boto3.resource('iam')\n",
    "sts = boto3.client('sts')\n",
    "\n",
    "sagemaker_session = Session()\n",
    "bucket = sagemaker_session.default_bucket()\n",
    "prefix = \"NotebookJobExample\"\n",
    "account_id = sts.get_caller_identity().get(\"Account\")\n",
    "region = boto3.session.Session().region_name"
   ]
  },
  {
   "cell_type": "markdown",
   "id": "802a2310-acce-4a0b-92f1-8d87505957bf",
   "metadata": {
    "tags": []
   },
   "source": [
    "### ハンズオン実行用の IAM ポリシーとロールの作成"
   ]
  },
  {
   "cell_type": "markdown",
   "id": "ba43efe1-fdf4-46fe-8dac-d5ca10093437",
   "metadata": {},
   "source": [
    "#### IAM ポリシーの作成"
   ]
  },
  {
   "cell_type": "code",
   "execution_count": 8,
   "id": "f171ecf7-9f72-4b23-9664-376b8835905a",
   "metadata": {
    "tags": []
   },
   "outputs": [
    {
     "name": "stdout",
     "output_type": "stream",
     "text": [
      "Cloudn't create policy AmazonSageMakerStudioNotebookJobExamplePolicy\n"
     ]
    },
    {
     "name": "stderr",
     "output_type": "stream",
     "text": [
      "WARNING:__main__:Cloudn't create policy AmazonSageMakerStudioNotebookJobExamplePolicy\n"
     ]
    },
    {
     "name": "stdout",
     "output_type": "stream",
     "text": [
      "AmazonSageMakerStudioNotebookJobExamplePolicy already exists\n"
     ]
    },
    {
     "name": "stderr",
     "output_type": "stream",
     "text": [
      "WARNING:__main__:AmazonSageMakerStudioNotebookJobExamplePolicy already exists\n"
     ]
    },
    {
     "name": "stdout",
     "output_type": "stream",
     "text": [
      "arn:aws:iam::809078683005:policy/AmazonSageMakerStudioNotebookJobExamplePolicy\n"
     ]
    },
    {
     "name": "stderr",
     "output_type": "stream",
     "text": [
      "WARNING:__main__:arn:aws:iam::809078683005:policy/AmazonSageMakerStudioNotebookJobExamplePolicy\n"
     ]
    }
   ],
   "source": [
    "if env == \"local\":\n",
    "    policy_name = \"AmazonSageMakerStudioNotebookJobExamplePolicy\"\n",
    "    description = \"This policy is required to execute a hands-on notebook for SageMaker Studio Notebook Job, \" \\\n",
    "        + \"https://github.com/kmotohas/amazon-sagemaker-studio-notebook-job-example .\"\n",
    "\n",
    "    policy_document = {\n",
    "       \"Version\":\"2012-10-17\",\n",
    "       \"Statement\":[\n",
    "          {\n",
    "             \"Effect\":\"Allow\",\n",
    "             \"Action\":\"iam:PassRole\",\n",
    "             \"Resource\":\"arn:aws:iam::*:role/*\",\n",
    "             \"Condition\":{\n",
    "                \"StringLike\":{\n",
    "                   \"iam:PassedToService\":[\n",
    "                      \"sagemaker.amazonaws.com\",\n",
    "                      \"events.amazonaws.com\"\n",
    "                   ]\n",
    "                }\n",
    "             }\n",
    "          },\n",
    "          {\n",
    "             \"Effect\":\"Allow\",\n",
    "             \"Action\":[\n",
    "                \"events:TagResource\",\n",
    "                \"events:DeleteRule\",\n",
    "                \"events:PutTargets\",\n",
    "                \"events:DescribeRule\",\n",
    "                \"events:PutRule\",\n",
    "                \"events:RemoveTargets\",\n",
    "                \"events:DisableRule\",\n",
    "                \"events:EnableRule\"\n",
    "             ],\n",
    "             \"Resource\":\"*\",\n",
    "             \"Condition\":{\n",
    "                \"StringEquals\":{\n",
    "                   \"aws:ResourceTag/sagemaker:is-scheduling-notebook-job\":\"true\"\n",
    "                }\n",
    "             }\n",
    "          },\n",
    "          {\n",
    "             \"Effect\":\"Allow\",\n",
    "             \"Action\":[\n",
    "                \"s3:CreateBucket\",\n",
    "                \"s3:PutBucketVersioning\",\n",
    "                \"s3:PutEncryptionConfiguration\"\n",
    "             ],\n",
    "             \"Resource\":\"arn:aws:s3:::sagemaker-automated-execution-*\"\n",
    "          },\n",
    "          {\n",
    "             \"Effect\":\"Allow\",\n",
    "             \"Action\":[\n",
    "                \"sagemaker:ListTags\"\n",
    "             ],\n",
    "             \"Resource\":[\n",
    "                \"arn:aws:sagemaker:*:*:user-profile/*\",\n",
    "                \"arn:aws:sagemaker:*:*:space/*\",\n",
    "                \"arn:aws:sagemaker:*:*:training-job/*\",\n",
    "                \"arn:aws:sagemaker:*:*:pipeline/*\"\n",
    "             ]\n",
    "          },\n",
    "          {\n",
    "             \"Effect\":\"Allow\",\n",
    "             \"Action\":[\n",
    "                \"sagemaker:AddTags\"\n",
    "             ],\n",
    "             \"Resource\":[\n",
    "                \"arn:aws:sagemaker:*:*:training-job/*\",\n",
    "                \"arn:aws:sagemaker:*:*:pipeline/*\"\n",
    "             ]\n",
    "          },\n",
    "          {\n",
    "             \"Effect\":\"Allow\",\n",
    "             \"Action\":[\n",
    "                \"ec2:CreateNetworkInterface\",\n",
    "                \"ec2:CreateNetworkInterfacePermission\",\n",
    "                \"ec2:CreateVpcEndpoint\",\n",
    "                \"ec2:DeleteNetworkInterface\",\n",
    "                \"ec2:DeleteNetworkInterfacePermission\",\n",
    "                \"ec2:DescribeDhcpOptions\",\n",
    "                \"ec2:DescribeNetworkInterfaces\",\n",
    "                \"ec2:DescribeRouteTables\",\n",
    "                \"ec2:DescribeSecurityGroups\",\n",
    "                \"ec2:DescribeSubnets\",\n",
    "                \"ec2:DescribeVpcEndpoints\",\n",
    "                \"ec2:DescribeVpcs\",\n",
    "                \"ecr:BatchCheckLayerAvailability\",\n",
    "                \"ecr:BatchGetImage\",\n",
    "                \"ecr:GetDownloadUrlForLayer\",\n",
    "                \"ecr:GetAuthorizationToken\",\n",
    "                \"s3:ListBucket\",\n",
    "                \"s3:GetBucketLocation\",\n",
    "                \"s3:GetEncryptionConfiguration\",\n",
    "                \"s3:PutObject\",\n",
    "                \"s3:DeleteObject\",\n",
    "                \"s3:GetObject\",\n",
    "                \"sagemaker:DescribeDomain\",\n",
    "                \"sagemaker:DescribeUserProfile\",\n",
    "                \"sagemaker:DescribeSpace\",\n",
    "                \"sagemaker:DescribeStudioLifecycleConfig\",\n",
    "                \"sagemaker:DescribeImageVersion\",\n",
    "                \"sagemaker:DescribeAppImageConfig\",\n",
    "                \"sagemaker:CreateTrainingJob\",\n",
    "                \"sagemaker:DescribeTrainingJob\",\n",
    "                \"sagemaker:StopTrainingJob\",\n",
    "                \"sagemaker:Search\",\n",
    "                \"sagemaker:CreatePipeline\",\n",
    "                \"sagemaker:DescribePipeline\",\n",
    "                \"sagemaker:DeletePipeline\",\n",
    "                \"sagemaker:StartPipelineExecution\"\n",
    "             ],\n",
    "             \"Resource\":\"*\"\n",
    "          }\n",
    "       ]\n",
    "    }\n",
    "\n",
    "    policy_arn: str = None\n",
    "\n",
    "    try:\n",
    "        policy = iam.create_policy(\n",
    "            PolicyName=policy_name,\n",
    "            Description=description,\n",
    "            PolicyDocument=json.dumps(policy_document),\n",
    "        )\n",
    "        logger.info(f\"Created policy {policy.arn}\")\n",
    "        policy_arn = policy.arn\n",
    "    except ClientError as e:\n",
    "        logger.warning(f\"Cloudn't create policy {policy_name}\")\n",
    "        if e.response[\"Error\"][\"Code\"] == \"EntityAlreadyExists\":\n",
    "            logger.warning(f\"{policy_name} already exists\")\n",
    "            policy_arn = f\"arn:aws:iam::{account_id}:policy/{policy_name}\"\n",
    "            logger.warning(policy_arn)\n",
    "        else:\n",
    "            logger.exception(e)\n",
    "            raise"
   ]
  },
  {
   "cell_type": "markdown",
   "id": "2589fb20-270d-42e1-bfde-ceb94595d961",
   "metadata": {
    "tags": []
   },
   "source": [
    "#### IAM ロールの作成"
   ]
  },
  {
   "cell_type": "code",
   "execution_count": 9,
   "id": "0174b073-9c05-4119-818d-631f29450d51",
   "metadata": {
    "tags": []
   },
   "outputs": [
    {
     "name": "stdout",
     "output_type": "stream",
     "text": [
      "Cloudn't create role AmazonSageMakerStudioNotebookJobExampleRole\n"
     ]
    },
    {
     "name": "stderr",
     "output_type": "stream",
     "text": [
      "WARNING:__main__:Cloudn't create role AmazonSageMakerStudioNotebookJobExampleRole\n"
     ]
    },
    {
     "name": "stdout",
     "output_type": "stream",
     "text": [
      "AmazonSageMakerStudioNotebookJobExampleRole already exists\n"
     ]
    },
    {
     "name": "stderr",
     "output_type": "stream",
     "text": [
      "WARNING:__main__:AmazonSageMakerStudioNotebookJobExampleRole already exists\n"
     ]
    },
    {
     "name": "stdout",
     "output_type": "stream",
     "text": [
      "arn:aws:iam::809078683005:role/service-role/AmazonSageMakerStudioNotebookJobExampleRole\n"
     ]
    },
    {
     "name": "stderr",
     "output_type": "stream",
     "text": [
      "WARNING:__main__:arn:aws:iam::809078683005:role/service-role/AmazonSageMakerStudioNotebookJobExampleRole\n"
     ]
    }
   ],
   "source": [
    "if env == \"local\":\n",
    "    role_name = \"AmazonSageMakerStudioNotebookJobExampleRole\"\n",
    "\n",
    "    trust_policy = {\n",
    "        \"Version\": \"2012-10-17\",\n",
    "        \"Statement\": [\n",
    "            {\n",
    "                \"Effect\": \"Allow\",\n",
    "                \"Principal\": {\n",
    "                    \"Service\": \"sagemaker.amazonaws.com\"\n",
    "                },\n",
    "                \"Action\": \"sts:AssumeRole\"\n",
    "            },\n",
    "            {\n",
    "                \"Effect\": \"Allow\",\n",
    "                \"Principal\": {\n",
    "                    \"Service\": \"events.amazonaws.com\"\n",
    "                },\n",
    "                \"Action\": \"sts:AssumeRole\"\n",
    "            }\n",
    "        ]\n",
    "    }\n",
    "\n",
    "    role_arn: str = None\n",
    "\n",
    "    try:\n",
    "        role = iam.create_role(\n",
    "            RoleName=role_name,\n",
    "            Path=\"/service-role/\",\n",
    "            AssumeRolePolicyDocument=json.dumps(trust_policy)\n",
    "        )\n",
    "        logger.info(f\"Created role {role.arn}\")\n",
    "        role_arn = role.arn\n",
    "    except ClientError as e:\n",
    "        logger.warning(f\"Cloudn't create role {role_name}\")\n",
    "        if e.response[\"Error\"][\"Code\"] == \"EntityAlreadyExists\":\n",
    "            logger.warning(f\"{role_name} already exists\")\n",
    "            role_arn = f\"arn:aws:iam::{account_id}:role/service-role/{role_name}\"\n",
    "            logger.warning(role_arn)\n",
    "        else:\n",
    "            logger.exception(e)\n",
    "            raise"
   ]
  },
  {
   "cell_type": "markdown",
   "id": "9c636bcf-e918-4fa5-a6c5-00ed41ee2dec",
   "metadata": {
    "tags": []
   },
   "source": [
    "#### ロールにポリシーをアタッチ"
   ]
  },
  {
   "cell_type": "code",
   "execution_count": 10,
   "id": "0c81a0b3-1c51-4add-98dd-be879711923d",
   "metadata": {
    "tags": []
   },
   "outputs": [
    {
     "name": "stdout",
     "output_type": "stream",
     "text": [
      "Attached policy arn:aws:iam::809078683005:policy/AmazonSageMakerStudioNotebookJobExamplePolicy to role AmazonSageMakerStudioNotebookJobExampleRole\n"
     ]
    },
    {
     "name": "stderr",
     "output_type": "stream",
     "text": [
      "INFO:__main__:Attached policy arn:aws:iam::809078683005:policy/AmazonSageMakerStudioNotebookJobExamplePolicy to role AmazonSageMakerStudioNotebookJobExampleRole\n"
     ]
    }
   ],
   "source": [
    "if env == \"local\":\n",
    "    try:\n",
    "        iam.Role(role_name).attach_policy(PolicyArn=policy_arn)\n",
    "        logger.info(f\"Attached policy {policy_arn} to role {role_name}\")\n",
    "    except ClientError:\n",
    "        logger.exception(f\"Couldn't attach policy {policy_arn} to role {role_name}\")\n",
    "        raise"
   ]
  },
  {
   "cell_type": "markdown",
   "id": "546b83f6-e4e7-474f-befb-d26d3bdbcd19",
   "metadata": {
    "tags": []
   },
   "source": [
    "## サンプルデータの準備\n",
    "\n",
    "ダイアモンドの価格データセットを用います。\n",
    "以降のコードは [PyCaret のビギナー向け回帰モデル開発チュートリアル](https://nbviewer.org/github/pycaret/pycaret/blob/master/tutorials/Regression%20Tutorial%20Level%20Beginner%20-%20REG101.ipynb)に沿って記述されています。"
   ]
  },
  {
   "cell_type": "code",
   "execution_count": 11,
   "id": "55e02f76-5396-4dbd-8dea-10ab4527973e",
   "metadata": {
    "tags": []
   },
   "outputs": [
    {
     "data": {
      "text/html": [
       "<div>\n",
       "<style scoped>\n",
       "    .dataframe tbody tr th:only-of-type {\n",
       "        vertical-align: middle;\n",
       "    }\n",
       "\n",
       "    .dataframe tbody tr th {\n",
       "        vertical-align: top;\n",
       "    }\n",
       "\n",
       "    .dataframe thead th {\n",
       "        text-align: right;\n",
       "    }\n",
       "</style>\n",
       "<table border=\"1\" class=\"dataframe\">\n",
       "  <thead>\n",
       "    <tr style=\"text-align: right;\">\n",
       "      <th></th>\n",
       "      <th>Carat Weight</th>\n",
       "      <th>Cut</th>\n",
       "      <th>Color</th>\n",
       "      <th>Clarity</th>\n",
       "      <th>Polish</th>\n",
       "      <th>Symmetry</th>\n",
       "      <th>Report</th>\n",
       "      <th>Price</th>\n",
       "    </tr>\n",
       "  </thead>\n",
       "  <tbody>\n",
       "    <tr>\n",
       "      <th>0</th>\n",
       "      <td>1.10</td>\n",
       "      <td>Ideal</td>\n",
       "      <td>H</td>\n",
       "      <td>SI1</td>\n",
       "      <td>VG</td>\n",
       "      <td>EX</td>\n",
       "      <td>GIA</td>\n",
       "      <td>5169</td>\n",
       "    </tr>\n",
       "    <tr>\n",
       "      <th>1</th>\n",
       "      <td>0.83</td>\n",
       "      <td>Ideal</td>\n",
       "      <td>H</td>\n",
       "      <td>VS1</td>\n",
       "      <td>ID</td>\n",
       "      <td>ID</td>\n",
       "      <td>AGSL</td>\n",
       "      <td>3470</td>\n",
       "    </tr>\n",
       "    <tr>\n",
       "      <th>2</th>\n",
       "      <td>0.85</td>\n",
       "      <td>Ideal</td>\n",
       "      <td>H</td>\n",
       "      <td>SI1</td>\n",
       "      <td>EX</td>\n",
       "      <td>EX</td>\n",
       "      <td>GIA</td>\n",
       "      <td>3183</td>\n",
       "    </tr>\n",
       "    <tr>\n",
       "      <th>3</th>\n",
       "      <td>0.91</td>\n",
       "      <td>Ideal</td>\n",
       "      <td>E</td>\n",
       "      <td>SI1</td>\n",
       "      <td>VG</td>\n",
       "      <td>VG</td>\n",
       "      <td>GIA</td>\n",
       "      <td>4370</td>\n",
       "    </tr>\n",
       "    <tr>\n",
       "      <th>4</th>\n",
       "      <td>0.83</td>\n",
       "      <td>Ideal</td>\n",
       "      <td>G</td>\n",
       "      <td>SI1</td>\n",
       "      <td>EX</td>\n",
       "      <td>EX</td>\n",
       "      <td>GIA</td>\n",
       "      <td>3171</td>\n",
       "    </tr>\n",
       "  </tbody>\n",
       "</table>\n",
       "</div>"
      ],
      "text/plain": [
       "   Carat Weight    Cut Color Clarity Polish Symmetry Report  Price\n",
       "0          1.10  Ideal     H     SI1     VG       EX    GIA   5169\n",
       "1          0.83  Ideal     H     VS1     ID       ID   AGSL   3470\n",
       "2          0.85  Ideal     H     SI1     EX       EX    GIA   3183\n",
       "3          0.91  Ideal     E     SI1     VG       VG    GIA   4370\n",
       "4          0.83  Ideal     G     SI1     EX       EX    GIA   3171"
      ]
     },
     "metadata": {},
     "output_type": "display_data"
    }
   ],
   "source": [
    "if env == \"local\":\n",
    "    dataset = get_data(\"diamond\")"
   ]
  },
  {
   "cell_type": "markdown",
   "id": "ae9baefe-0950-44eb-bf3a-b1b3e4af762d",
   "metadata": {
    "tags": []
   },
   "source": [
    "サンプル数は6000、予測対象の Price を含むカラム数は8つ。"
   ]
  },
  {
   "cell_type": "code",
   "execution_count": 14,
   "id": "fe249b99-ed56-44bf-a892-2f59b077770d",
   "metadata": {
    "tags": []
   },
   "outputs": [
    {
     "name": "stdout",
     "output_type": "stream",
     "text": [
      "(6000, 8)\n"
     ]
    }
   ],
   "source": [
    "if env == \"local\":\n",
    "    print(dataset.shape)"
   ]
  },
  {
   "cell_type": "markdown",
   "id": "d4941d9d-8cd6-4892-89f3-436ad0f533ce",
   "metadata": {},
   "source": [
    "学習用のトレーニングデータと予測用のデータに分けます。"
   ]
  },
  {
   "cell_type": "code",
   "execution_count": 13,
   "id": "61d8b10d-2549-4652-8e2d-ca98708d97c6",
   "metadata": {
    "tags": []
   },
   "outputs": [
    {
     "name": "stdout",
     "output_type": "stream",
     "text": [
      "Data for Modeling: (5400, 8)\n",
      "Unseen Data For Predictions: (600, 8)\n"
     ]
    }
   ],
   "source": [
    "if env == \"local\":\n",
    "    train_data = dataset.sample(frac=0.9, random_state=int(random_seed))\n",
    "    unseen_data = dataset.drop(train_data.index)\n",
    "\n",
    "    train_data.reset_index(drop=True, inplace=True)\n",
    "    unseen_data.reset_index(drop=True, inplace=True)\n",
    "\n",
    "    print(f\"Data for Modeling: {train_data.shape}\")\n",
    "    print(f\"Unseen Data For Predictions: {unseen_data.shape}\")"
   ]
  },
  {
   "cell_type": "markdown",
   "id": "221f79f2-e913-4347-a2b5-1a676436a06d",
   "metadata": {
    "tags": []
   },
   "source": [
    "Pandas DataFrame を CSV として保存します。\n",
    "ここでは S3 への CSV のエクスポートを AWS SDK for Pandas (awswrangler) を用いています。"
   ]
  },
  {
   "cell_type": "code",
   "execution_count": 15,
   "id": "90c62ede-35f6-41b6-8dcb-f0de8453e8a3",
   "metadata": {
    "tags": []
   },
   "outputs": [
    {
     "name": "stdout",
     "output_type": "stream",
     "text": [
      "Training data is uploaded to s3://sagemaker-us-east-1-809078683005/NotebookJobExample/data/train/0001.csv\n"
     ]
    },
    {
     "name": "stderr",
     "output_type": "stream",
     "text": [
      "INFO:__main__:Training data is uploaded to s3://sagemaker-us-east-1-809078683005/NotebookJobExample/data/train/0001.csv\n"
     ]
    },
    {
     "name": "stdout",
     "output_type": "stream",
     "text": [
      "Unseen data is uploaded to s3://sagemaker-us-east-1-809078683005/NotebookJobExample/data/unseen/0001.csv\n"
     ]
    },
    {
     "name": "stderr",
     "output_type": "stream",
     "text": [
      "INFO:__main__:Unseen data is uploaded to s3://sagemaker-us-east-1-809078683005/NotebookJobExample/data/unseen/0001.csv\n"
     ]
    }
   ],
   "source": [
    "if env == \"local\":\n",
    "    train_data_uri = f\"s3://{bucket}/{prefix}/data/train\"\n",
    "    unseen_data_uri = f\"s3://{bucket}/{prefix}/data/unseen\"\n",
    "    wr.s3.to_csv(train_data, train_data_uri + \"/0001.csv\", index=False)\n",
    "    wr.s3.to_csv(unseen_data, unseen_data_uri + \"/0001.csv\", index=False)\n",
    "    logger.info(f\"Training data is uploaded to {train_data_uri}/0001.csv\")\n",
    "    logger.info(f\"Unseen data is uploaded to {unseen_data_uri}/0001.csv\")"
   ]
  },
  {
   "cell_type": "markdown",
   "id": "c9cde58b-6ec0-4af8-9588-a6cbdf856f24",
   "metadata": {},
   "source": [
    "ノートブックジョブ実行のためにデータセットを S3 にアップロードします。"
   ]
  },
  {
   "cell_type": "markdown",
   "id": "d0084f49-7c45-4fd2-96fd-32b6abe6a8f8",
   "metadata": {
    "tags": []
   },
   "source": [
    "#### ノートブックジョブ実行時は S3 からデータを取得する"
   ]
  },
  {
   "cell_type": "code",
   "execution_count": 16,
   "id": "8e729e60-fdfa-4575-9b78-bb8ac10f4383",
   "metadata": {
    "tags": []
   },
   "outputs": [],
   "source": [
    "if env == \"job\":\n",
    "    train_data = wr.s3.read_csv(train_data_uri)\n",
    "    unseen_data = wr.s3.read_csv(unseen_data_uri)"
   ]
  },
  {
   "cell_type": "markdown",
   "id": "c82b142c-ed5c-49a4-9cfb-acda3c3493b9",
   "metadata": {
    "tags": []
   },
   "source": [
    "## SageMaker Experiments を用いた PyCaret の実験管理\n",
    "\n",
    "ここでは [PyCaret](https://pycaret.gitbook.io/docs/) という AutoML ツールを用いてダイヤモンド価格予測モデルを構築します。\n",
    "また、実験管理のために SageMaker Experiments というツールを用います。\n",
    "\n",
    "SageMaker Experiments はフルマネージドのサービスであって、実感管理のために追加のサーバーを管理することなく利用できます。\n",
    "SageMaker Studio の UI から管理画面を開くことができ、実験結果を閲覧したり、異なる実験間のメトリクスを比較したりできます。\n",
    "\n",
    "SageMaker Python SDK ではそれぞれの実験を `Run` として扱い、`log_parameter`、`log_parameters`、`log_metric`、`log_file`、`log_artifact` などのメソッドを用いて実験のメトリクスやパラメーター、入出力ファイル、アーティファクトを記録します。"
   ]
  },
  {
   "cell_type": "code",
   "execution_count": 18,
   "id": "96db3cfb-f8af-4172-b302-d6c25b33c839",
   "metadata": {
    "scrolled": true,
    "tags": []
   },
   "outputs": [
    {
     "name": "stderr",
     "output_type": "stream",
     "text": [
      "INFO:logs:Saving 'Feature Importance.png'\n",
      "WARNING:matplotlib.font_manager:findfont: Font family ['sans-serif'] not found. Falling back to DejaVu Sans.\n",
      "WARNING:matplotlib.font_manager:findfont: Generic family 'sans-serif' not found because none of the following families were found: Arial, Liberation Sans, Bitstream Vera Sans, sans-serif\n",
      "WARNING:matplotlib.font_manager:findfont: Font family ['sans-serif'] not found. Falling back to DejaVu Sans.\n",
      "WARNING:matplotlib.font_manager:findfont: Generic family 'sans-serif' not found because none of the following families were found: Arial, Liberation Sans, Bitstream Vera Sans, sans-serif\n",
      "INFO:logs:Visual Rendered Successfully\n",
      "INFO:logs:plot_model() succesfully completed......................................\n"
     ]
    },
    {
     "name": "stdout",
     "output_type": "stream",
     "text": [
      "finalizing model...\n"
     ]
    },
    {
     "name": "stderr",
     "output_type": "stream",
     "text": [
      "INFO:__main__:finalizing model...\n",
      "INFO:logs:Initializing finalize_model()\n",
      "INFO:logs:finalize_model(estimator=ExtraTreesRegressor(bootstrap=True, ccp_alpha=0.0, criterion='mse', max_depth=5,\n",
      "                    max_features=1.0, max_leaf_nodes=None, max_samples=None,\n",
      "                    min_impurity_decrease=0.01, min_impurity_split=None,\n",
      "                    min_samples_leaf=2, min_samples_split=7,\n",
      "                    min_weight_fraction_leaf=0.0, n_estimators=280, n_jobs=-1,\n",
      "                    oob_score=False, random_state=42, verbose=0,\n",
      "                    warm_start=False), fit_kwargs=None, groups=None, model_only=True, display=None, experiment_custom_tags=None, return_train_score=False)\n",
      "INFO:logs:Finalizing ExtraTreesRegressor(bootstrap=True, ccp_alpha=0.0, criterion='mse', max_depth=5,\n",
      "                    max_features=1.0, max_leaf_nodes=None, max_samples=None,\n",
      "                    min_impurity_decrease=0.01, min_impurity_split=None,\n",
      "                    min_samples_leaf=2, min_samples_split=7,\n",
      "                    min_weight_fraction_leaf=0.0, n_estimators=280, n_jobs=-1,\n",
      "                    oob_score=False, random_state=42, verbose=0,\n",
      "                    warm_start=False)\n",
      "INFO:logs:Initializing create_model()\n",
      "INFO:logs:create_model(estimator=ExtraTreesRegressor(bootstrap=True, ccp_alpha=0.0, criterion='mse', max_depth=5,\n",
      "                    max_features=1.0, max_leaf_nodes=None, max_samples=None,\n",
      "                    min_impurity_decrease=0.01, min_impurity_split=None,\n",
      "                    min_samples_leaf=2, min_samples_split=7,\n",
      "                    min_weight_fraction_leaf=0.0, n_estimators=280, n_jobs=-1,\n",
      "                    oob_score=False, random_state=42, verbose=0,\n",
      "                    warm_start=False), fold=None, round=4, cross_validation=True, predict=True, fit_kwargs={}, groups=None, refit=True, verbose=False, system=False, metrics=None, experiment_custom_tags=None, add_to_model_list=False, probability_threshold=None, display=None, return_train_score=False, kwargs={})\n",
      "INFO:logs:Checking exceptions\n",
      "INFO:logs:Importing libraries\n",
      "INFO:logs:Copying training dataset\n",
      "INFO:logs:Defining folds\n",
      "INFO:logs:Declaring metric variables\n",
      "INFO:logs:Importing untrained model\n",
      "INFO:logs:Declaring custom model\n",
      "INFO:logs:Extra Trees Regressor Imported succesfully\n",
      "INFO:logs:Starting cross validation\n",
      "INFO:logs:Cross validating with KFold(n_splits=10, random_state=None, shuffle=False), n_jobs=-1\n",
      "INFO:logs:Calculating mean and std\n",
      "INFO:logs:Creating metrics dataframe\n",
      "INFO:logs:Finalizing model\n",
      "INFO:logs:create_model_container: 19\n",
      "INFO:logs:master_model_container: 19\n",
      "INFO:logs:display_container: 5\n",
      "INFO:logs:ExtraTreesRegressor(bootstrap=True, ccp_alpha=0.0, criterion='mse', max_depth=5,\n",
      "                    max_features=1.0, max_leaf_nodes=None, max_samples=None,\n",
      "                    min_impurity_decrease=0.01, min_impurity_split=None,\n",
      "                    min_samples_leaf=2, min_samples_split=7,\n",
      "                    min_weight_fraction_leaf=0.0, n_estimators=280, n_jobs=-1,\n",
      "                    oob_score=False, random_state=42, verbose=0,\n",
      "                    warm_start=False)\n",
      "INFO:logs:create_model() succesfully completed......................................\n",
      "INFO:logs:create_model_container: 19\n",
      "INFO:logs:master_model_container: 19\n",
      "INFO:logs:display_container: 4\n",
      "INFO:logs:ExtraTreesRegressor(bootstrap=True, ccp_alpha=0.0, criterion='mse', max_depth=5,\n",
      "                    max_features=1.0, max_leaf_nodes=None, max_samples=None,\n",
      "                    min_impurity_decrease=0.01, min_impurity_split=None,\n",
      "                    min_samples_leaf=2, min_samples_split=7,\n",
      "                    min_weight_fraction_leaf=0.0, n_estimators=280, n_jobs=-1,\n",
      "                    oob_score=False, random_state=42, verbose=0,\n",
      "                    warm_start=False)\n",
      "INFO:logs:finalize_model() succesfully completed......................................\n"
     ]
    },
    {
     "name": "stdout",
     "output_type": "stream",
     "text": [
      "making predictions on unceen data...\n"
     ]
    },
    {
     "name": "stderr",
     "output_type": "stream",
     "text": [
      "INFO:__main__:making predictions on unceen data...\n",
      "INFO:logs:Initializing predict_model()\n",
      "INFO:logs:predict_model(estimator=ExtraTreesRegressor(bootstrap=True, ccp_alpha=0.0, criterion='mse', max_depth=5,\n",
      "                    max_features=1.0, max_leaf_nodes=None, max_samples=None,\n",
      "                    min_impurity_decrease=0.01, min_impurity_split=None,\n",
      "                    min_samples_leaf=2, min_samples_split=7,\n",
      "                    min_weight_fraction_leaf=0.0, n_estimators=280, n_jobs=-1,\n",
      "                    oob_score=False, random_state=42, verbose=0,\n",
      "                    warm_start=False), probability_threshold=None, encoded_labels=True, drift_report=False, raw_score=False, round=4, verbose=True, ml_usecase=MLUsecase.REGRESSION, display=None, drift_kwargs=None)\n",
      "INFO:logs:Checking exceptions\n",
      "INFO:logs:Preloading libraries\n",
      "INFO:logs:Preparing display monitor\n"
     ]
    },
    {
     "data": {
      "text/html": [
       "<style type=\"text/css\">\n",
       "</style>\n",
       "<table id=\"T_91475_\">\n",
       "  <thead>\n",
       "    <tr>\n",
       "      <th class=\"blank level0\" >&nbsp;</th>\n",
       "      <th class=\"col_heading level0 col0\" >Model</th>\n",
       "      <th class=\"col_heading level0 col1\" >MAE</th>\n",
       "      <th class=\"col_heading level0 col2\" >MSE</th>\n",
       "      <th class=\"col_heading level0 col3\" >RMSE</th>\n",
       "      <th class=\"col_heading level0 col4\" >R2</th>\n",
       "      <th class=\"col_heading level0 col5\" >RMSLE</th>\n",
       "      <th class=\"col_heading level0 col6\" >MAPE</th>\n",
       "    </tr>\n",
       "  </thead>\n",
       "  <tbody>\n",
       "    <tr>\n",
       "      <th id=\"T_91475_level0_row0\" class=\"row_heading level0 row0\" >0</th>\n",
       "      <td id=\"T_91475_row0_col0\" class=\"data row0 col0\" >Extra Trees Regressor</td>\n",
       "      <td id=\"T_91475_row0_col1\" class=\"data row0 col1\" >1554.0775</td>\n",
       "      <td id=\"T_91475_row0_col2\" class=\"data row0 col2\" >7092075.7366</td>\n",
       "      <td id=\"T_91475_row0_col3\" class=\"data row0 col3\" >2663.0951</td>\n",
       "      <td id=\"T_91475_row0_col4\" class=\"data row0 col4\" >0.9308</td>\n",
       "      <td id=\"T_91475_row0_col5\" class=\"data row0 col5\" >0.1623</td>\n",
       "      <td id=\"T_91475_row0_col6\" class=\"data row0 col6\" >0.1369</td>\n",
       "    </tr>\n",
       "  </tbody>\n",
       "</table>\n"
      ],
      "text/plain": [
       "<pandas.io.formats.style.Styler at 0x7f3e7aac07f0>"
      ]
     },
     "metadata": {},
     "output_type": "display_data"
    },
    {
     "name": "stdout",
     "output_type": "stream",
     "text": [
      "saving final model...\n"
     ]
    },
    {
     "name": "stderr",
     "output_type": "stream",
     "text": [
      "INFO:__main__:saving final model...\n",
      "INFO:logs:Initializing save_model()\n",
      "INFO:logs:save_model(model=ExtraTreesRegressor(bootstrap=True, ccp_alpha=0.0, criterion='mse', max_depth=5,\n",
      "                    max_features=1.0, max_leaf_nodes=None, max_samples=None,\n",
      "                    min_impurity_decrease=0.01, min_impurity_split=None,\n",
      "                    min_samples_leaf=2, min_samples_split=7,\n",
      "                    min_weight_fraction_leaf=0.0, n_estimators=280, n_jobs=-1,\n",
      "                    oob_score=False, random_state=42, verbose=0,\n",
      "                    warm_start=False), model_name=model, prep_pipe_=Pipeline(memory=None,\n",
      "         steps=[('dtypes',\n",
      "                 DataTypes_Auto_infer(categorical_features=[],\n",
      "                                      display_types=False, features_todrop=[],\n",
      "                                      id_columns=[], ml_usecase='regression',\n",
      "                                      numerical_features=[], target='Price',\n",
      "                                      time_features=[])),\n",
      "                ('imputer',\n",
      "                 Simple_Imputer(categorical_strategy='not_available',\n",
      "                                fill_value_categorical=None,\n",
      "                                fill_value_numerical=None,\n",
      "                                numeric_strategy=...\n",
      "                ('scaling', 'passthrough'), ('P_transform', 'passthrough'),\n",
      "                ('binn', 'passthrough'), ('rem_outliers', 'passthrough'),\n",
      "                ('cluster_all', 'passthrough'),\n",
      "                ('dummy', Dummify(target='Price')),\n",
      "                ('fix_perfect', Remove_100(target='Price')),\n",
      "                ('clean_names', Clean_Colum_Names()),\n",
      "                ('feature_select', 'passthrough'), ('fix_multi', 'passthrough'),\n",
      "                ('dfs', 'passthrough'), ('pca', 'passthrough')],\n",
      "         verbose=False), verbose=True, kwargs={})\n",
      "INFO:logs:Adding model into prep_pipe\n",
      "INFO:logs:model.pkl saved in current working directory\n",
      "INFO:logs:Pipeline(memory=None,\n",
      "         steps=[('dtypes',\n",
      "                 DataTypes_Auto_infer(categorical_features=[],\n",
      "                                      display_types=False, features_todrop=[],\n",
      "                                      id_columns=[], ml_usecase='regression',\n",
      "                                      numerical_features=[], target='Price',\n",
      "                                      time_features=[])),\n",
      "                ('imputer',\n",
      "                 Simple_Imputer(categorical_strategy='not_available',\n",
      "                                fill_value_categorical=None,\n",
      "                                fill_value_numerical=None,\n",
      "                                numeric_strategy=...\n",
      "                 ExtraTreesRegressor(bootstrap=True, ccp_alpha=0.0,\n",
      "                                     criterion='mse', max_depth=5,\n",
      "                                     max_features=1.0, max_leaf_nodes=None,\n",
      "                                     max_samples=None,\n",
      "                                     min_impurity_decrease=0.01,\n",
      "                                     min_impurity_split=None,\n",
      "                                     min_samples_leaf=2, min_samples_split=7,\n",
      "                                     min_weight_fraction_leaf=0.0,\n",
      "                                     n_estimators=280, n_jobs=-1,\n",
      "                                     oob_score=False, random_state=42,\n",
      "                                     verbose=0, warm_start=False)]],\n",
      "         verbose=False)\n",
      "INFO:logs:save_model() successfully completed......................................\n"
     ]
    },
    {
     "name": "stdout",
     "output_type": "stream",
     "text": [
      "Transformation Pipeline and Model Successfully Saved\n",
      "CPU times: user 19.8 s, sys: 907 ms, total: 20.7 s\n",
      "Wall time: 4min 4s\n"
     ]
    }
   ],
   "source": [
    "%%time\n",
    "#from sagemaker.experiments import Run\n",
    "\n",
    "run_name = unique_name_from_base(base_run_name)\n",
    "output_path = f\"s3://{bucket}/{prefix}/{experiment_name}/{run_name}/\"\n",
    "\n",
    "with Run(\n",
    "    experiment_name=experiment_name,\n",
    "    run_name=run_name,\n",
    ") as run:\n",
    "    # パラメーターをまとめて記録\n",
    "    run.log_parameters(\n",
    "        {\n",
    "            \"num_train_samples\": len(train_data),\n",
    "            \"num_test_samples\": len(unseen_data),\n",
    "        }\n",
    "    )\n",
    "    \n",
    "    # 入力ファイルを S3 にアップロードして記録\n",
    "    #run.log_file(file_path=\"train_data.csv\", name=\"Train Data\", is_output=False)\n",
    "    #run.log_file(file_path=\"unseen_data.csv\", name=\"Unseen Data\", is_output=False)\n",
    "    \n",
    "    # PyCaret の環境の初期化と特徴量変換パイプラインの作成\n",
    "    pycaret_experiment = setup(\n",
    "        data=train_data,\n",
    "        target=\"Price\",\n",
    "        session_id=int(random_seed),\n",
    "        silent=True,\n",
    "    )\n",
    "    \n",
    "    # 20以上のモデルをデフォルトのハイパーパラメーターで学習して比較し、最良のモデルを判別\n",
    "    logger.info(\"comparing models...\")\n",
    "    best_model = compare_models()\n",
    "    run.log_parameter(\"best_model\", best_model.__class__.__name__)\n",
    "    \n",
    "    # 事前定義済みのパラメーター空間をランダムグリッドサーチで探索してチューニング\n",
    "    logger.info(\"tuning best model...\")\n",
    "    tuned_model = tune_model(best_model)\n",
    "    \n",
    "    # テストデータとしてホールドアウトされたサンプルで性能評価\n",
    "    logger.info(\"evaluating model on test data\")\n",
    "    test_predictions = predict_model(tuned_model)  # 推論結果は返すがメトリクスは表示するだけ\n",
    "    \n",
    "    # MAE, MSE, RMSE, R2, RMSLE, MAPE といったメトリクスの計算結果のテーブルを取得\n",
    "    test_metrics = pull()  # pycaret.regression.pull() は直前に表示されたテーブルを返す\n",
    "    # テストデータに対する評価メトリクスを記録\n",
    "    for k, v in test_metrics.to_dict(\"records\")[0].items():\n",
    "        if k != \"Model\":\n",
    "            run.log_metric(name=f\"Test:{k}\", value=v)\n",
    "            \n",
    "    # 性能評価のためのプロットを作成\n",
    "    logger.info(\"generating plots...\")\n",
    "    residuals = plot_model(tuned_model, save=True)\n",
    "    prediction_error = plot_model(tuned_model, plot=\"error\", save=True)\n",
    "    feature_importance = plot_model(tuned_model, plot=\"feature\", save=True)\n",
    "    # 作成したプロットを記録\n",
    "    run.log_file(file_path=residuals, name=\"Residuals\", is_output=True)\n",
    "    run.log_file(file_path=prediction_error, name=\"Prediction Error\", is_output=True)\n",
    "    run.log_file(file_path=feature_importance, name=\"Feature Importance\", is_output=True)\n",
    "    \n",
    "    # ホールドアウトサンプルもすべて含めて学習\n",
    "    logger.info(\"finalizing model...\")\n",
    "    final_model = finalize_model(tuned_model)\n",
    "    # モデルのハイパーパラメーターを記録\n",
    "    model_parameters = final_model.get_params()\n",
    "    \n",
    "    def convert_value_types_to_log_parameters(params: dict):\n",
    "        \"\"\" log_parameters で記録できるようキャストする \"\"\"\n",
    "        for k, v in params.items():\n",
    "            if \"numpy\" in str(type(v)):\n",
    "                params[k] = v.item()\n",
    "            elif type(v) == bool or v is None:\n",
    "                params[k] = str(v)\n",
    "        return params\n",
    "    \n",
    "    model_parameters = convert_value_types_to_log_parameters(model_parameters)\n",
    "    run.log_parameters(model_parameters)\n",
    "    \n",
    "    # 学習したモデルを用いて予測対象のデータセットに対して予測を実行\n",
    "    logger.info(\"making predictions on unceen data...\")\n",
    "    predictions = predict_model(final_model, data=unseen_data)\n",
    "    predictions.to_csv(\"predictions.csv\", index=False)\n",
    "    # 予測結果の CSV を記録\n",
    "    run.log_file(file_path=\"predictions.csv\", name=\"predictions.csv\", is_output=True)\n",
    "    \n",
    "    # 学習したモデルと特徴量変換パイプラインを pickle として保存\n",
    "    logger.info(\"saving final model...\")\n",
    "    save_model(final_model, \"model\")\n",
    "    # 保存した pickle を S3 にアップロードして記録\n",
    "    run.log_file(file_path=\"model.pkl\", name=\"model.pkl\", is_output=True)"
   ]
  },
  {
   "cell_type": "code",
   "execution_count": null,
   "id": "fc3e25ed-01e5-4ccd-89da-06e8e407aa6c",
   "metadata": {},
   "outputs": [],
   "source": []
  }
 ],
 "metadata": {
  "availableInstances": [
   {
    "_defaultOrder": 0,
    "_isFastLaunch": true,
    "category": "General purpose",
    "gpuNum": 0,
    "memoryGiB": 4,
    "name": "ml.t3.medium",
    "vcpuNum": 2
   },
   {
    "_defaultOrder": 1,
    "_isFastLaunch": false,
    "category": "General purpose",
    "gpuNum": 0,
    "memoryGiB": 8,
    "name": "ml.t3.large",
    "vcpuNum": 2
   },
   {
    "_defaultOrder": 2,
    "_isFastLaunch": false,
    "category": "General purpose",
    "gpuNum": 0,
    "memoryGiB": 16,
    "name": "ml.t3.xlarge",
    "vcpuNum": 4
   },
   {
    "_defaultOrder": 3,
    "_isFastLaunch": false,
    "category": "General purpose",
    "gpuNum": 0,
    "memoryGiB": 32,
    "name": "ml.t3.2xlarge",
    "vcpuNum": 8
   },
   {
    "_defaultOrder": 4,
    "_isFastLaunch": true,
    "category": "General purpose",
    "gpuNum": 0,
    "memoryGiB": 8,
    "name": "ml.m5.large",
    "vcpuNum": 2
   },
   {
    "_defaultOrder": 5,
    "_isFastLaunch": false,
    "category": "General purpose",
    "gpuNum": 0,
    "memoryGiB": 16,
    "name": "ml.m5.xlarge",
    "vcpuNum": 4
   },
   {
    "_defaultOrder": 6,
    "_isFastLaunch": false,
    "category": "General purpose",
    "gpuNum": 0,
    "memoryGiB": 32,
    "name": "ml.m5.2xlarge",
    "vcpuNum": 8
   },
   {
    "_defaultOrder": 7,
    "_isFastLaunch": false,
    "category": "General purpose",
    "gpuNum": 0,
    "memoryGiB": 64,
    "name": "ml.m5.4xlarge",
    "vcpuNum": 16
   },
   {
    "_defaultOrder": 8,
    "_isFastLaunch": false,
    "category": "General purpose",
    "gpuNum": 0,
    "memoryGiB": 128,
    "name": "ml.m5.8xlarge",
    "vcpuNum": 32
   },
   {
    "_defaultOrder": 9,
    "_isFastLaunch": false,
    "category": "General purpose",
    "gpuNum": 0,
    "memoryGiB": 192,
    "name": "ml.m5.12xlarge",
    "vcpuNum": 48
   },
   {
    "_defaultOrder": 10,
    "_isFastLaunch": false,
    "category": "General purpose",
    "gpuNum": 0,
    "memoryGiB": 256,
    "name": "ml.m5.16xlarge",
    "vcpuNum": 64
   },
   {
    "_defaultOrder": 11,
    "_isFastLaunch": false,
    "category": "General purpose",
    "gpuNum": 0,
    "memoryGiB": 384,
    "name": "ml.m5.24xlarge",
    "vcpuNum": 96
   },
   {
    "_defaultOrder": 12,
    "_isFastLaunch": false,
    "category": "General purpose",
    "gpuNum": 0,
    "memoryGiB": 8,
    "name": "ml.m5d.large",
    "vcpuNum": 2
   },
   {
    "_defaultOrder": 13,
    "_isFastLaunch": false,
    "category": "General purpose",
    "gpuNum": 0,
    "memoryGiB": 16,
    "name": "ml.m5d.xlarge",
    "vcpuNum": 4
   },
   {
    "_defaultOrder": 14,
    "_isFastLaunch": false,
    "category": "General purpose",
    "gpuNum": 0,
    "memoryGiB": 32,
    "name": "ml.m5d.2xlarge",
    "vcpuNum": 8
   },
   {
    "_defaultOrder": 15,
    "_isFastLaunch": false,
    "category": "General purpose",
    "gpuNum": 0,
    "memoryGiB": 64,
    "name": "ml.m5d.4xlarge",
    "vcpuNum": 16
   },
   {
    "_defaultOrder": 16,
    "_isFastLaunch": false,
    "category": "General purpose",
    "gpuNum": 0,
    "memoryGiB": 128,
    "name": "ml.m5d.8xlarge",
    "vcpuNum": 32
   },
   {
    "_defaultOrder": 17,
    "_isFastLaunch": false,
    "category": "General purpose",
    "gpuNum": 0,
    "memoryGiB": 192,
    "name": "ml.m5d.12xlarge",
    "vcpuNum": 48
   },
   {
    "_defaultOrder": 18,
    "_isFastLaunch": false,
    "category": "General purpose",
    "gpuNum": 0,
    "memoryGiB": 256,
    "name": "ml.m5d.16xlarge",
    "vcpuNum": 64
   },
   {
    "_defaultOrder": 19,
    "_isFastLaunch": false,
    "category": "General purpose",
    "gpuNum": 0,
    "memoryGiB": 384,
    "name": "ml.m5d.24xlarge",
    "vcpuNum": 96
   },
   {
    "_defaultOrder": 20,
    "_isFastLaunch": true,
    "category": "Compute optimized",
    "gpuNum": 0,
    "memoryGiB": 4,
    "name": "ml.c5.large",
    "vcpuNum": 2
   },
   {
    "_defaultOrder": 21,
    "_isFastLaunch": false,
    "category": "Compute optimized",
    "gpuNum": 0,
    "memoryGiB": 8,
    "name": "ml.c5.xlarge",
    "vcpuNum": 4
   },
   {
    "_defaultOrder": 22,
    "_isFastLaunch": false,
    "category": "Compute optimized",
    "gpuNum": 0,
    "memoryGiB": 16,
    "name": "ml.c5.2xlarge",
    "vcpuNum": 8
   },
   {
    "_defaultOrder": 23,
    "_isFastLaunch": false,
    "category": "Compute optimized",
    "gpuNum": 0,
    "memoryGiB": 32,
    "name": "ml.c5.4xlarge",
    "vcpuNum": 16
   },
   {
    "_defaultOrder": 24,
    "_isFastLaunch": false,
    "category": "Compute optimized",
    "gpuNum": 0,
    "memoryGiB": 72,
    "name": "ml.c5.9xlarge",
    "vcpuNum": 36
   },
   {
    "_defaultOrder": 25,
    "_isFastLaunch": false,
    "category": "Compute optimized",
    "gpuNum": 0,
    "memoryGiB": 96,
    "name": "ml.c5.12xlarge",
    "vcpuNum": 48
   },
   {
    "_defaultOrder": 26,
    "_isFastLaunch": false,
    "category": "Compute optimized",
    "gpuNum": 0,
    "memoryGiB": 144,
    "name": "ml.c5.18xlarge",
    "vcpuNum": 72
   },
   {
    "_defaultOrder": 27,
    "_isFastLaunch": false,
    "category": "Compute optimized",
    "gpuNum": 0,
    "memoryGiB": 192,
    "name": "ml.c5.24xlarge",
    "vcpuNum": 96
   },
   {
    "_defaultOrder": 28,
    "_isFastLaunch": true,
    "category": "Accelerated computing",
    "gpuNum": 1,
    "memoryGiB": 16,
    "name": "ml.g4dn.xlarge",
    "vcpuNum": 4
   },
   {
    "_defaultOrder": 29,
    "_isFastLaunch": false,
    "category": "Accelerated computing",
    "gpuNum": 1,
    "memoryGiB": 32,
    "name": "ml.g4dn.2xlarge",
    "vcpuNum": 8
   },
   {
    "_defaultOrder": 30,
    "_isFastLaunch": false,
    "category": "Accelerated computing",
    "gpuNum": 1,
    "memoryGiB": 64,
    "name": "ml.g4dn.4xlarge",
    "vcpuNum": 16
   },
   {
    "_defaultOrder": 31,
    "_isFastLaunch": false,
    "category": "Accelerated computing",
    "gpuNum": 1,
    "memoryGiB": 128,
    "name": "ml.g4dn.8xlarge",
    "vcpuNum": 32
   },
   {
    "_defaultOrder": 32,
    "_isFastLaunch": false,
    "category": "Accelerated computing",
    "gpuNum": 4,
    "memoryGiB": 192,
    "name": "ml.g4dn.12xlarge",
    "vcpuNum": 48
   },
   {
    "_defaultOrder": 33,
    "_isFastLaunch": false,
    "category": "Accelerated computing",
    "gpuNum": 1,
    "memoryGiB": 256,
    "name": "ml.g4dn.16xlarge",
    "vcpuNum": 64
   },
   {
    "_defaultOrder": 34,
    "_isFastLaunch": false,
    "category": "Accelerated computing",
    "gpuNum": 1,
    "memoryGiB": 61,
    "name": "ml.p3.2xlarge",
    "vcpuNum": 8
   },
   {
    "_defaultOrder": 35,
    "_isFastLaunch": false,
    "category": "Accelerated computing",
    "gpuNum": 4,
    "memoryGiB": 244,
    "name": "ml.p3.8xlarge",
    "vcpuNum": 32
   },
   {
    "_defaultOrder": 36,
    "_isFastLaunch": false,
    "category": "Accelerated computing",
    "gpuNum": 8,
    "memoryGiB": 488,
    "name": "ml.p3.16xlarge",
    "vcpuNum": 64
   },
   {
    "_defaultOrder": 37,
    "_isFastLaunch": false,
    "category": "Accelerated computing",
    "gpuNum": 8,
    "memoryGiB": 768,
    "name": "ml.p3dn.24xlarge",
    "vcpuNum": 96
   },
   {
    "_defaultOrder": 38,
    "_isFastLaunch": false,
    "category": "Memory Optimized",
    "gpuNum": 0,
    "memoryGiB": 16,
    "name": "ml.r5.large",
    "vcpuNum": 2
   },
   {
    "_defaultOrder": 39,
    "_isFastLaunch": false,
    "category": "Memory Optimized",
    "gpuNum": 0,
    "memoryGiB": 32,
    "name": "ml.r5.xlarge",
    "vcpuNum": 4
   },
   {
    "_defaultOrder": 40,
    "_isFastLaunch": false,
    "category": "Memory Optimized",
    "gpuNum": 0,
    "memoryGiB": 64,
    "name": "ml.r5.2xlarge",
    "vcpuNum": 8
   },
   {
    "_defaultOrder": 41,
    "_isFastLaunch": false,
    "category": "Memory Optimized",
    "gpuNum": 0,
    "memoryGiB": 128,
    "name": "ml.r5.4xlarge",
    "vcpuNum": 16
   },
   {
    "_defaultOrder": 42,
    "_isFastLaunch": false,
    "category": "Memory Optimized",
    "gpuNum": 0,
    "memoryGiB": 256,
    "name": "ml.r5.8xlarge",
    "vcpuNum": 32
   },
   {
    "_defaultOrder": 43,
    "_isFastLaunch": false,
    "category": "Memory Optimized",
    "gpuNum": 0,
    "memoryGiB": 384,
    "name": "ml.r5.12xlarge",
    "vcpuNum": 48
   },
   {
    "_defaultOrder": 44,
    "_isFastLaunch": false,
    "category": "Memory Optimized",
    "gpuNum": 0,
    "memoryGiB": 512,
    "name": "ml.r5.16xlarge",
    "vcpuNum": 64
   },
   {
    "_defaultOrder": 45,
    "_isFastLaunch": false,
    "category": "Memory Optimized",
    "gpuNum": 0,
    "memoryGiB": 768,
    "name": "ml.r5.24xlarge",
    "vcpuNum": 96
   },
   {
    "_defaultOrder": 46,
    "_isFastLaunch": false,
    "category": "Accelerated computing",
    "gpuNum": 1,
    "memoryGiB": 16,
    "name": "ml.g5.xlarge",
    "vcpuNum": 4
   },
   {
    "_defaultOrder": 47,
    "_isFastLaunch": false,
    "category": "Accelerated computing",
    "gpuNum": 1,
    "memoryGiB": 32,
    "name": "ml.g5.2xlarge",
    "vcpuNum": 8
   },
   {
    "_defaultOrder": 48,
    "_isFastLaunch": false,
    "category": "Accelerated computing",
    "gpuNum": 1,
    "memoryGiB": 64,
    "name": "ml.g5.4xlarge",
    "vcpuNum": 16
   },
   {
    "_defaultOrder": 49,
    "_isFastLaunch": false,
    "category": "Accelerated computing",
    "gpuNum": 1,
    "memoryGiB": 128,
    "name": "ml.g5.8xlarge",
    "vcpuNum": 32
   },
   {
    "_defaultOrder": 50,
    "_isFastLaunch": false,
    "category": "Accelerated computing",
    "gpuNum": 1,
    "memoryGiB": 256,
    "name": "ml.g5.16xlarge",
    "vcpuNum": 64
   },
   {
    "_defaultOrder": 51,
    "_isFastLaunch": false,
    "category": "Accelerated computing",
    "gpuNum": 4,
    "memoryGiB": 192,
    "name": "ml.g5.12xlarge",
    "vcpuNum": 48
   },
   {
    "_defaultOrder": 52,
    "_isFastLaunch": false,
    "category": "Accelerated computing",
    "gpuNum": 4,
    "memoryGiB": 384,
    "name": "ml.g5.24xlarge",
    "vcpuNum": 96
   },
   {
    "_defaultOrder": 53,
    "_isFastLaunch": false,
    "category": "Accelerated computing",
    "gpuNum": 8,
    "memoryGiB": 768,
    "name": "ml.g5.48xlarge",
    "vcpuNum": 192
   }
  ],
  "instance_type": "ml.t3.medium",
  "kernelspec": {
   "display_name": "Python 3 (Data Science 2.0)",
   "language": "python",
   "name": "python3__SAGEMAKER_INTERNAL__arn:aws:sagemaker:us-east-1:081325390199:image/sagemaker-data-science-38"
  },
  "language_info": {
   "codemirror_mode": {
    "name": "ipython",
    "version": 3
   },
   "file_extension": ".py",
   "mimetype": "text/x-python",
   "name": "python",
   "nbconvert_exporter": "python",
   "pygments_lexer": "ipython3",
   "version": "3.8.13"
  }
 },
 "nbformat": 4,
 "nbformat_minor": 5
}
